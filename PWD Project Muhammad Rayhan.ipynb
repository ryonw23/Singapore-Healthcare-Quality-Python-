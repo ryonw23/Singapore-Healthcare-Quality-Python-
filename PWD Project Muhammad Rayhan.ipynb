{
 "cells": [
  {
   "cell_type": "markdown",
   "id": "56750004-162b-4110-baee-dc78bfe66200",
   "metadata": {},
   "source": [
    "# Staffing Standards: analysing the impact of the healthcare workforce count on healthcare quality in Singapore"
   ]
  },
  {
   "cell_type": "markdown",
   "id": "66ef8ea1-bced-4032-90f8-c1edbfe3e0e9",
   "metadata": {},
   "source": [
    "## 1 Background, importance and objectives"
   ]
  },
  {
   "cell_type": "markdown",
   "id": "b8cccab8-9483-44e0-b460-6c011d46a50c",
   "metadata": {},
   "source": [
    "### 1.1 Background and importance"
   ]
  },
  {
   "cell_type": "markdown",
   "id": "5507b741-5939-46ea-9601-d9ee9a8717f8",
   "metadata": {},
   "source": [
    "The quality of public healthcare is essential to a nation's wellbeing, and thus the healthcare workforce is a critical area of study. Singapore boasts one of the strongest healthcare systems in the world, ranking first in the Legatum Prosperity Index in terms of health [1]. While much attention has been given to policies and funding, how the healthcare workforce count affects the healthcare quality remains underexplored despite numerous efforts to bolster the numbers in the healthcare workforce."
   ]
  },
  {
   "cell_type": "markdown",
   "id": "8fa757ab-390f-4cce-94ba-2f74e81d8ecc",
   "metadata": {},
   "source": [
    "As Singapore experiences a rapidly aging population, with nearly 1 in 5 citizens aged 65 and above [2], it is imperative we focus on workforce adequacy to meet the needs of an aging population. Examining how workforce dynamics influence public healthcare quality over time can pinpoint the gaps in Singapore's healthcare system."
   ]
  },
  {
   "cell_type": "markdown",
   "id": "9721edee-a105-4d41-b948-004c802865e1",
   "metadata": {},
   "source": [
    "The research combines healthcare workforce count data with healthcare quality indicators. By appliyng data analysis techniques, I will investigate trends and correlations to understand the relationship between staffing levels and public healthcare quality in Singapore. "
   ]
  },
  {
   "cell_type": "markdown",
   "id": "0cf6f014-957a-4329-9f77-61ec4f0c9df7",
   "metadata": {},
   "source": [
    "### 1.2 Objectives"
   ]
  },
  {
   "cell_type": "markdown",
   "id": "e83b129b-ae90-400c-9733-eb9fc7f43962",
   "metadata": {},
   "source": [
    "By the end of this project, I intend to achieve:\n",
    "1. Thorough analysis of the relationship between the healthcare workforce and the quality of public healthcare in Singapore.\n",
    "2. Identification of trends in staffing levels across key healthcare professions like nurses and therapists, and their correlation with healthcare quality indicators over time.\n",
    "3. Evaluation of the adequacy of workforce growth in meeting Singapore's healthcare demands in the context of evolving healthcare needs"
   ]
  },
  {
   "cell_type": "markdown",
   "id": "265be5c3-83ad-4cd9-a96a-b3116dd96d61",
   "metadata": {},
   "source": [
    "The requirements to achieve the objectives:\n",
    "1. Data collection and preparation\n",
    "   - Gather and process historical data on the healthcare workforce count in Singapore for allied health professionals.\n",
    "   - Gather and process data on healthcare quality indicators in Singapore.\n",
    "2. Trend Analysis\n",
    "   - Analyse staffing trends across different healthcare professions over time.\n",
    "   - Identify changes in healthcare quality and align changes with the workforce dynamics.\n",
    "3. Insights\n",
    "   - Investigate correlations between workforce trends and public healthcare quality indicators.\n",
    "   - Explore possible causal links and identify key factors driving changes in healthcare quality.\n",
    "   - Provide insights into long term effects.\n",
    "4. Reflections\n",
    "   - Reflect on the limitations of the dataset and analysis techniques used.\n",
    "   - Discuss potential areas for further research."
   ]
  },
  {
   "cell_type": "markdown",
   "id": "58432f8f-11a1-4eae-974c-9c5fc6b7d64e",
   "metadata": {},
   "source": [
    "### 1.3 Research Questions and Hypotheses"
   ]
  },
  {
   "cell_type": "markdown",
   "id": "b6275fbc-1b58-450f-918d-ead92d3e9a76",
   "metadata": {},
   "source": [
    "Outlined key research questions to guide the analysis:\n",
    "1. How have the healthcare workforce count changed over time across key healthcare professions?\n",
    "2. Is there a measurable relationship between changes in workforce allocation and healthcare quality indicators?\n",
    "3. What long-term trends or impacts can be projected from the current data? "
   ]
  },
  {
   "cell_type": "markdown",
   "id": "a8452be7-3672-45df-9b90-fbbe4586474c",
   "metadata": {},
   "source": [
    "Proposed hypotheses:\n",
    "1. There exists a negative correlation between the increase in healthcare workers entering the private sector and the worsening healthcare quality indicators.\n",
    "2. Workforce imbalances across professions lead to disparities in healthcare quality outcomes."
   ]
  },
  {
   "cell_type": "markdown",
   "id": "b6e01a49-846c-44e0-abae-76f583beb875",
   "metadata": {},
   "source": [
    "## 2 Data and methodology"
   ]
  },
  {
   "cell_type": "markdown",
   "id": "7b133cc8-0dab-4bee-ae7b-ebc75c6abdf2",
   "metadata": {},
   "source": [
    "### 2.1 Datasets Overview"
   ]
  },
  {
   "cell_type": "markdown",
   "id": "52df8c61-fbd8-43c0-bd82-72296b1e4d28",
   "metadata": {},
   "source": [
    "This section will describe key datasets used in the research, including sources, time range and content."
   ]
  },
  {
   "cell_type": "markdown",
   "id": "ac6e4a34-1f71-434f-a5ec-f2b6866e5c0b",
   "metadata": {},
   "source": [
    "Healthcare workforce data is sourced from https://data.gov.sg/ for the following professions:\n",
    "   - Advanced Practice Nurses\n",
    "   - Nurses and Midwives\n",
    "   - Occupational Therapists\n",
    "   - Speech Therapists\n",
    "   - Physiotherapists"
   ]
  },
  {
   "cell_type": "markdown",
   "id": "2a537e29-9c5a-47ef-bf9b-6a2a872559d6",
   "metadata": {},
   "source": [
    "Healthcare quality data is based on the Healthcare Access and Quality (HAQ) Index sourced from The Lancet Global Health and Institute for Health Metrics and Evaluation."
   ]
  },
  {
   "cell_type": "markdown",
   "id": "43d15e31-a1a7-496c-81ae-921835f05ce8",
   "metadata": {},
   "source": [
    "Analysis of these datasets will provide a comprehensive basis for exploring the link between the healthcare workforce count and healthcare quality in Singapore"
   ]
  },
  {
   "cell_type": "markdown",
   "id": "be0c0fd0-cdc5-4f20-beb8-6aacecc4cba7",
   "metadata": {},
   "source": [
    "### 2.2 Analytical Framework and Tools"
   ]
  },
  {
   "cell_type": "markdown",
   "id": "b00441cf-da66-4016-af56-fee1bc68fd67",
   "metadata": {},
   "source": [
    "The analytical processes and tools used in this paper include:\n",
    "1. Data processing - Cleaning datasets for missing, inconsistent or invalid entries, ensuring compatibility for analysis. Selecting necessary data and excluding unnecessary data.\n",
    "2. Exploratory Data Analysis - Visualising workforce count and healthcare quality trends using libraries such as pandas, matplotlib and seaborn.\n",
    "3. Webscraping - Obtain data from HTML elements as well as for elements loaded by Javascript using requests, BeautifulSoup and Selenium."
   ]
  },
  {
   "cell_type": "markdown",
   "id": "eccb8639-3f84-4699-b55b-0d1697664cf9",
   "metadata": {},
   "source": [
    "### 2.3 Limitations and constraints of data"
   ]
  },
  {
   "cell_type": "markdown",
   "id": "eb486981-1040-4d10-8982-4e85f55ef347",
   "metadata": {},
   "source": [
    "The varying time intervals of the data collected represent a limitation in analysing the impact of healthcare workforce count trends on healthcare quality."
   ]
  },
  {
   "cell_type": "markdown",
   "id": "f1f2fff5-4c6b-4b00-9f13-feb2a0928c69",
   "metadata": {},
   "source": [
    "#### 2.3.1 Inconsistent Data Granularity"
   ]
  },
  {
   "cell_type": "markdown",
   "id": "c56391e2-dde9-4d35-8392-32bb3bbc3784",
   "metadata": {},
   "source": [
    "Considering the data intervals for the HAQ Index is irregular while the data intervals for the healthcare workforce count is yearly, it can lead to challenges in aligning trends across different datasets. The irregular data intervals for the HAQ Index mean that we are unable to observe the immediate impact of the healthcare workforce on the healthcare quality for certain years."
   ]
  },
  {
   "cell_type": "markdown",
   "id": "0b8e9645-5e53-4b55-87c5-b4ad2e8e3dd2",
   "metadata": {},
   "source": [
    "To combat this limitation, only the years that are present across all data sets will be considered for this research."
   ]
  },
  {
   "cell_type": "markdown",
   "id": "1bc1acd6-67ee-4a87-87fd-73b7afbc4d1f",
   "metadata": {},
   "source": [
    "#### 2.3.2 Delayed Reporting"
   ]
  },
  {
   "cell_type": "markdown",
   "id": "dc27c8e7-f8ff-4639-b4b5-7ad9b9a88188",
   "metadata": {},
   "source": [
    "The mismatch in the data intervals, where healthcare workforce count and healthcare quality data are collected at different time points, could lead to significant challenges in interpreting the relationship between the healthcare workforce count and healthcare quality. This inconsistency may cause the analysis to overlook long term impacts."
   ]
  },
  {
   "cell_type": "markdown",
   "id": "58c9d185-4200-4a4b-af00-57c19e97e13c",
   "metadata": {},
   "source": [
    "This limitation can be countered by considering the immediate effects in the same year or before of the healthcare workforce count on the healthcare quality in Singapore."
   ]
  },
  {
   "cell_type": "markdown",
   "id": "a8964e36-f8e9-4e24-94fa-2e5094116018",
   "metadata": {},
   "source": [
    "### 2.4 Licensing of data"
   ]
  },
  {
   "cell_type": "markdown",
   "id": "06d53697-191b-4e07-a009-344bb3bddb67",
   "metadata": {},
   "source": [
    "All data used in this research project is open for non-commercial uses from data.gov.sg [3] and Institute for Health Metrics and Evaluation [4]"
   ]
  },
  {
   "cell_type": "markdown",
   "id": "ff8f1f1b-813c-4694-af66-f5b45a8641ed",
   "metadata": {},
   "source": [
    "### 2.5 Ethical considerations"
   ]
  },
  {
   "cell_type": "markdown",
   "id": "ad2d9122-e3cd-451a-b2ea-5628091ff92a",
   "metadata": {},
   "source": [
    "Data in the datasets used are completely anonymous and mitigates any biases as well as avoids harmful assumptions."
   ]
  },
  {
   "cell_type": "markdown",
   "id": "c6138e23-f8e7-4bec-91ed-bd31e4d7bad6",
   "metadata": {},
   "source": [
    "The findings of this project do not aim to crticise Singapore's healthcare system but rather understand how the healthcare workforce count impacts the qualty of healthcare in Singapore."
   ]
  },
  {
   "cell_type": "markdown",
   "id": "77a7f465-832a-4fd2-b758-10bdaed46298",
   "metadata": {},
   "source": [
    "### 2.6 Guidelines for reuse"
   ]
  },
  {
   "cell_type": "markdown",
   "id": "9ac55596-4f3a-45ec-b549-9c69e5d7ab54",
   "metadata": {},
   "source": [
    "Individuals intending to use the source data must comply with the specific terms and conditions established by each publishing entity at the time of use and independently secure the necessary permissions where applicable."
   ]
  },
  {
   "cell_type": "markdown",
   "id": "a02685b2-7ca9-4da9-80b2-2f91952a59b8",
   "metadata": {},
   "source": [
    "## 3 Analysis of workforce trends"
   ]
  },
  {
   "cell_type": "markdown",
   "id": "4b7230b4-2d6e-4401-9a21-402b1112cff5",
   "metadata": {},
   "source": [
    "This section will explore the trends and implications of the healthcare workforce. Datasets from the healthcare workforce for these professions were obtained from the data.gov.sg website."
   ]
  },
  {
   "cell_type": "markdown",
   "id": "2e14261d-a4fe-45de-b2d3-daa13033c1df",
   "metadata": {},
   "source": [
    "The first part of section 3 will initialise the libraries used in order to import the CSV files and print out a graph plot for the analysed data. Following that, analysis of the different healthcare professions and their numbers will take place. The first profession group would be nurses which include advanced practice nurses, nurses and midwives. The next profession group would be therapists which include speech therapists, occupational therapists and physiotherapists. "
   ]
  },
  {
   "cell_type": "markdown",
   "id": "7063dc4e-0e12-4ef8-b4ad-e755b259fe16",
   "metadata": {},
   "source": [
    "All datasets used for this section are in the form of CSV files and will be imported and processed based on the requirements of the sub-sections."
   ]
  },
  {
   "cell_type": "markdown",
   "id": "5b6a6949-b4b7-40ab-959e-2105abb3687a",
   "metadata": {},
   "source": [
    "#### <b>3.1 Importing data from CSV files<b>"
   ]
  },
  {
   "cell_type": "markdown",
   "id": "0e208df4-050f-47b2-9683-e3d24f36983e",
   "metadata": {},
   "source": [
    "To import data from a CSV file, we require the pandas library. \\\n",
    "To install the pandas library, we need to run the following code in a terminal: \\\n",
    "\"pip install pandas\" \\\n",
    "We will import the pandas library as \"pd\" for cleaner code formatting with the following code: \\\n",
    "\"import pandas as pd\""
   ]
  },
  {
   "cell_type": "code",
   "execution_count": 44,
   "id": "f15cba41-791c-4a63-ae88-333965fd6699",
   "metadata": {},
   "outputs": [],
   "source": [
    "import pandas as pd"
   ]
  },
  {
   "cell_type": "markdown",
   "id": "fe070464-b061-4308-a977-abfe5a98af82",
   "metadata": {},
   "source": [
    "To plot and graph the dataframe, we require the matplotlib and seaborn library.\\\n",
    "matplotlib is a plotting library with sufficient functionality for the purposes of this research.\\\n",
    "seaborn is an interface data visualisation library based on matplotlib for the purpose of accessibility. "
   ]
  },
  {
   "cell_type": "markdown",
   "id": "cf638246-2806-4aca-8302-f1443a6cfa7d",
   "metadata": {},
   "source": [
    "To install the above libraries, we need to run the following code in a terminal: \\\n",
    "\"pip install matplotlib\" \\\n",
    "\"pip install seaborn\" \\\n",
    "We will import the matplotlib library as \"plt\" and seaborn as \"sns\" for cleaner code formatting with the following code: \\\n",
    "\"import matplotlib.pyplot as plt\" \\\n",
    "\"import seaborn as sns\""
   ]
  },
  {
   "cell_type": "code",
   "execution_count": 47,
   "id": "712616c1-4cee-4fb5-87e1-ce71e8555636",
   "metadata": {},
   "outputs": [],
   "source": [
    "import matplotlib.pyplot as plt\n",
    "import seaborn as sns\n",
    "\n",
    "# reset colour palette to colour-blind friendly for accessibility\n",
    "sns.reset_orig()\n",
    "palette = sns.color_palette(\"colorblind\")\n",
    "plt.style.use(\"seaborn-v0_8-colorblind\")"
   ]
  },
  {
   "cell_type": "markdown",
   "id": "319f5992-defb-4afe-9ed1-37f21e0d1c50",
   "metadata": {},
   "source": [
    "### 3.2 Advanced practice nurses, nurses and midwives"
   ]
  },
  {
   "cell_type": "markdown",
   "id": "41f56980-4867-4bb4-9830-807ec0ddce53",
   "metadata": {},
   "source": [
    "The steps for analysing the counts for the nursing profession group are\\\n",
    "Step 1: Import the CSV files containing the data\\\n",
    "Step 2: Separate the profession counts into sectors - public, private and inactive\\\n",
    "Step 3: According to the sectors, plot a graph of healthcare workforce count against the years\\\n",
    "Step 4: Observe and understand the graph trends, finding further research on possible causes for the trends"
   ]
  },
  {
   "cell_type": "markdown",
   "id": "44637926-64f1-4257-948c-44c6bf5f32d2",
   "metadata": {},
   "source": [
    "#### 3.2.1 Advanced practice nurses"
   ]
  },
  {
   "cell_type": "markdown",
   "id": "d2dc34d8-4eee-4723-aee7-008542118db3",
   "metadata": {},
   "source": [
    "Import and display \"NumberofAdvancedPracticeNurses.csv\" using pandas library"
   ]
  },
  {
   "cell_type": "code",
   "execution_count": 51,
   "id": "4d879313-9f02-483b-b76e-f8aa33189b33",
   "metadata": {},
   "outputs": [
    {
     "data": {
      "text/html": [
       "<div>\n",
       "<style scoped>\n",
       "    .dataframe tbody tr th:only-of-type {\n",
       "        vertical-align: middle;\n",
       "    }\n",
       "\n",
       "    .dataframe tbody tr th {\n",
       "        vertical-align: top;\n",
       "    }\n",
       "\n",
       "    .dataframe thead th {\n",
       "        text-align: right;\n",
       "    }\n",
       "</style>\n",
       "<table border=\"1\" class=\"dataframe\">\n",
       "  <thead>\n",
       "    <tr style=\"text-align: right;\">\n",
       "      <th></th>\n",
       "      <th>year</th>\n",
       "      <th>sector</th>\n",
       "      <th>count</th>\n",
       "    </tr>\n",
       "  </thead>\n",
       "  <tbody>\n",
       "    <tr>\n",
       "      <th>0</th>\n",
       "      <td>2008</td>\n",
       "      <td>Public Sector</td>\n",
       "      <td>15</td>\n",
       "    </tr>\n",
       "    <tr>\n",
       "      <th>1</th>\n",
       "      <td>2008</td>\n",
       "      <td>Private Sector</td>\n",
       "      <td>2</td>\n",
       "    </tr>\n",
       "    <tr>\n",
       "      <th>2</th>\n",
       "      <td>2008</td>\n",
       "      <td>Not in Active Practice</td>\n",
       "      <td>0</td>\n",
       "    </tr>\n",
       "    <tr>\n",
       "      <th>3</th>\n",
       "      <td>2009</td>\n",
       "      <td>Public Sector</td>\n",
       "      <td>35</td>\n",
       "    </tr>\n",
       "    <tr>\n",
       "      <th>4</th>\n",
       "      <td>2009</td>\n",
       "      <td>Private Sector</td>\n",
       "      <td>2</td>\n",
       "    </tr>\n",
       "  </tbody>\n",
       "</table>\n",
       "</div>"
      ],
      "text/plain": [
       "   year                  sector  count\n",
       "0  2008           Public Sector     15\n",
       "1  2008          Private Sector      2\n",
       "2  2008  Not in Active Practice      0\n",
       "3  2009           Public Sector     35\n",
       "4  2009          Private Sector      2"
      ]
     },
     "execution_count": 51,
     "metadata": {},
     "output_type": "execute_result"
    }
   ],
   "source": [
    "advanced_practice_nurses_df = pd.read_csv(\"NumberofAdvancedPracticeNurses.csv\")\n",
    "\n",
    "# for the purposes of shortening the output, print the head of the dataframe\n",
    "advanced_practice_nurses_df.head(5)"
   ]
  },
  {
   "cell_type": "markdown",
   "id": "f3fa95b1-b672-458a-ab4a-5a9d09d707a7",
   "metadata": {},
   "source": [
    "Assign each sector to independent variables for graph plotting"
   ]
  },
  {
   "cell_type": "code",
   "execution_count": 53,
   "id": "466cfbcd-35fa-4531-a415-1fd466439ee4",
   "metadata": {},
   "outputs": [],
   "source": [
    "apn_public_sector = advanced_practice_nurses_df[advanced_practice_nurses_df['sector'] == 'Public Sector']\n",
    "apn_private_sector = advanced_practice_nurses_df[advanced_practice_nurses_df['sector'] == 'Private Sector']\n",
    "apn_inactive = advanced_practice_nurses_df[advanced_practice_nurses_df['sector'] == 'Not in Active Practice']"
   ]
  },
  {
   "cell_type": "markdown",
   "id": "c7250560-c3b4-4b94-a42e-a2489ccf84b9",
   "metadata": {},
   "source": [
    "Plot dataframe into a Line Plot using matplotlib library"
   ]
  },
  {
   "cell_type": "code",
   "execution_count": 55,
   "id": "728e1379-6aa5-4577-bcae-fe917d1bdab1",
   "metadata": {},
   "outputs": [
    {
     "data": {
      "text/plain": [
       "Text(0.5, 1.0, 'Fig. 1 Number of Advanced Practice Nurses')"
      ]
     },
     "execution_count": 55,
     "metadata": {},
     "output_type": "execute_result"
    },
    {
     "data": {
      "image/png": "[encoded data removed]",
      "text/plain": [
       "<Figure size 640x480 with 1 Axes>"
      ]
     },
     "metadata": {},
     "output_type": "display_data"
    }
   ],
   "source": [
    "fig, advanced_practice_nurses_plot = plt.subplots()\n",
    "advanced_practice_nurses_plot.plot(apn_public_sector['year'],apn_public_sector['count'], label = 'Public')\n",
    "advanced_practice_nurses_plot.plot(apn_private_sector['year'],apn_private_sector['count'], label = 'Private')\n",
    "advanced_practice_nurses_plot.plot(apn_inactive['year'],apn_inactive['count'], label = 'Inactive')\n",
    "advanced_practice_nurses_plot.legend()\n",
    "\n",
    "advanced_practice_nurses_plot.set_xlabel(\"Year\")\n",
    "advanced_practice_nurses_plot.set_ylabel(\"Count\")\n",
    "advanced_practice_nurses_plot.set_title(\"Fig. 1 Number of Advanced Practice Nurses\")"
   ]
  },
  {
   "cell_type": "markdown",
   "id": "9ed45028-9e28-4bdf-a824-355e8a655248",
   "metadata": {},
   "source": [
    "#### 3.2.2 Nurses and midwives"
   ]
  },
  {
   "cell_type": "markdown",
   "id": "3df4cdf1-7cbd-4ce4-9093-a4824e03251b",
   "metadata": {},
   "source": [
    "Import and display \"NumberofNursesandMidwives.csv\" using pandas library"
   ]
  },
  {
   "cell_type": "code",
   "execution_count": 58,
   "id": "d85ed91d-80b0-48b5-a1d4-aa7d4ad11cfd",
   "metadata": {},
   "outputs": [
    {
     "data": {
      "text/html": [
       "<div>\n",
       "<style scoped>\n",
       "    .dataframe tbody tr th:only-of-type {\n",
       "        vertical-align: middle;\n",
       "    }\n",
       "\n",
       "    .dataframe tbody tr th {\n",
       "        vertical-align: top;\n",
       "    }\n",
       "\n",
       "    .dataframe thead th {\n",
       "        text-align: right;\n",
       "    }\n",
       "</style>\n",
       "<table border=\"1\" class=\"dataframe\">\n",
       "  <thead>\n",
       "    <tr style=\"text-align: right;\">\n",
       "      <th></th>\n",
       "      <th>year</th>\n",
       "      <th>type</th>\n",
       "      <th>sector</th>\n",
       "      <th>count</th>\n",
       "    </tr>\n",
       "  </thead>\n",
       "  <tbody>\n",
       "    <tr>\n",
       "      <th>0</th>\n",
       "      <td>2006</td>\n",
       "      <td>Registered Nurses</td>\n",
       "      <td>Public Sector</td>\n",
       "      <td>8495</td>\n",
       "    </tr>\n",
       "    <tr>\n",
       "      <th>1</th>\n",
       "      <td>2006</td>\n",
       "      <td>Registered Nurses</td>\n",
       "      <td>Private Sector</td>\n",
       "      <td>4566</td>\n",
       "    </tr>\n",
       "    <tr>\n",
       "      <th>2</th>\n",
       "      <td>2006</td>\n",
       "      <td>Registered Nurses</td>\n",
       "      <td>Not in Active Practice</td>\n",
       "      <td>2391</td>\n",
       "    </tr>\n",
       "    <tr>\n",
       "      <th>3</th>\n",
       "      <td>2006</td>\n",
       "      <td>Enrolled Nurses</td>\n",
       "      <td>Public Sector</td>\n",
       "      <td>2956</td>\n",
       "    </tr>\n",
       "    <tr>\n",
       "      <th>4</th>\n",
       "      <td>2006</td>\n",
       "      <td>Enrolled Nurses</td>\n",
       "      <td>Private Sector</td>\n",
       "      <td>1484</td>\n",
       "    </tr>\n",
       "  </tbody>\n",
       "</table>\n",
       "</div>"
      ],
      "text/plain": [
       "   year               type                  sector  count\n",
       "0  2006  Registered Nurses           Public Sector   8495\n",
       "1  2006  Registered Nurses          Private Sector   4566\n",
       "2  2006  Registered Nurses  Not in Active Practice   2391\n",
       "3  2006    Enrolled Nurses           Public Sector   2956\n",
       "4  2006    Enrolled Nurses          Private Sector   1484"
      ]
     },
     "execution_count": 58,
     "metadata": {},
     "output_type": "execute_result"
    }
   ],
   "source": [
    "nurses_midwives_df = pd.read_csv(\"NumberofNursesandMidwives.csv\")\n",
    "\n",
    "# for the purposes of shortening output, print the head of dataframe\n",
    "nurses_midwives_df.head(5)"
   ]
  },
  {
   "cell_type": "markdown",
   "id": "b5b1b254-47af-4632-bc4d-c0b32af4390b",
   "metadata": {},
   "source": [
    "Assign each sector to independent variables for graph plotting. \\\n",
    "Group different types of nurses and midwives by sector instead of type."
   ]
  },
  {
   "cell_type": "code",
   "execution_count": 60,
   "id": "f28f8c61-bbe5-4b3c-bf9a-b6df17739b98",
   "metadata": {},
   "outputs": [
    {
     "data": {
      "text/html": [
       "<div>\n",
       "<style scoped>\n",
       "    .dataframe tbody tr th:only-of-type {\n",
       "        vertical-align: middle;\n",
       "    }\n",
       "\n",
       "    .dataframe tbody tr th {\n",
       "        vertical-align: top;\n",
       "    }\n",
       "\n",
       "    .dataframe thead th {\n",
       "        text-align: right;\n",
       "    }\n",
       "</style>\n",
       "<table border=\"1\" class=\"dataframe\">\n",
       "  <thead>\n",
       "    <tr style=\"text-align: right;\">\n",
       "      <th></th>\n",
       "      <th>index</th>\n",
       "      <th>year</th>\n",
       "      <th>sector</th>\n",
       "      <th>count</th>\n",
       "    </tr>\n",
       "  </thead>\n",
       "  <tbody>\n",
       "    <tr>\n",
       "      <th>0</th>\n",
       "      <td>0</td>\n",
       "      <td>2006</td>\n",
       "      <td>Public Sector</td>\n",
       "      <td>11574</td>\n",
       "    </tr>\n",
       "    <tr>\n",
       "      <th>1</th>\n",
       "      <td>1</td>\n",
       "      <td>2007</td>\n",
       "      <td>Public Sector</td>\n",
       "      <td>12294</td>\n",
       "    </tr>\n",
       "    <tr>\n",
       "      <th>2</th>\n",
       "      <td>2</td>\n",
       "      <td>2008</td>\n",
       "      <td>Public Sector</td>\n",
       "      <td>13711</td>\n",
       "    </tr>\n",
       "    <tr>\n",
       "      <th>3</th>\n",
       "      <td>3</td>\n",
       "      <td>2009</td>\n",
       "      <td>Public Sector</td>\n",
       "      <td>15675</td>\n",
       "    </tr>\n",
       "    <tr>\n",
       "      <th>4</th>\n",
       "      <td>4</td>\n",
       "      <td>2010</td>\n",
       "      <td>Public Sector</td>\n",
       "      <td>17613</td>\n",
       "    </tr>\n",
       "  </tbody>\n",
       "</table>\n",
       "</div>"
      ],
      "text/plain": [
       "   index  year         sector  count\n",
       "0      0  2006  Public Sector  11574\n",
       "1      1  2007  Public Sector  12294\n",
       "2      2  2008  Public Sector  13711\n",
       "3      3  2009  Public Sector  15675\n",
       "4      4  2010  Public Sector  17613"
      ]
     },
     "execution_count": 60,
     "metadata": {},
     "output_type": "execute_result"
    }
   ],
   "source": [
    "nm_public_sector = nurses_midwives_df[nurses_midwives_df['sector'] == 'Public Sector']\n",
    "nm_public_counts = nm_public_sector.groupby(['year', 'sector'],as_index=False)['count'].sum().reset_index()\n",
    "# for the purposes of shortening output, print the head of dataframe\n",
    "nm_public_counts.head(5)"
   ]
  },
  {
   "cell_type": "code",
   "execution_count": 61,
   "id": "ee30bd5d-b2d0-4103-947c-5bbff86c83b4",
   "metadata": {},
   "outputs": [
    {
     "data": {
      "text/html": [
       "<div>\n",
       "<style scoped>\n",
       "    .dataframe tbody tr th:only-of-type {\n",
       "        vertical-align: middle;\n",
       "    }\n",
       "\n",
       "    .dataframe tbody tr th {\n",
       "        vertical-align: top;\n",
       "    }\n",
       "\n",
       "    .dataframe thead th {\n",
       "        text-align: right;\n",
       "    }\n",
       "</style>\n",
       "<table border=\"1\" class=\"dataframe\">\n",
       "  <thead>\n",
       "    <tr style=\"text-align: right;\">\n",
       "      <th></th>\n",
       "      <th>index</th>\n",
       "      <th>year</th>\n",
       "      <th>sector</th>\n",
       "      <th>count</th>\n",
       "    </tr>\n",
       "  </thead>\n",
       "  <tbody>\n",
       "    <tr>\n",
       "      <th>0</th>\n",
       "      <td>0</td>\n",
       "      <td>2006</td>\n",
       "      <td>Private Sector</td>\n",
       "      <td>6109</td>\n",
       "    </tr>\n",
       "    <tr>\n",
       "      <th>1</th>\n",
       "      <td>1</td>\n",
       "      <td>2007</td>\n",
       "      <td>Private Sector</td>\n",
       "      <td>6112</td>\n",
       "    </tr>\n",
       "    <tr>\n",
       "      <th>2</th>\n",
       "      <td>2</td>\n",
       "      <td>2008</td>\n",
       "      <td>Private Sector</td>\n",
       "      <td>6224</td>\n",
       "    </tr>\n",
       "    <tr>\n",
       "      <th>3</th>\n",
       "      <td>3</td>\n",
       "      <td>2009</td>\n",
       "      <td>Private Sector</td>\n",
       "      <td>6463</td>\n",
       "    </tr>\n",
       "    <tr>\n",
       "      <th>4</th>\n",
       "      <td>4</td>\n",
       "      <td>2010</td>\n",
       "      <td>Private Sector</td>\n",
       "      <td>6965</td>\n",
       "    </tr>\n",
       "  </tbody>\n",
       "</table>\n",
       "</div>"
      ],
      "text/plain": [
       "   index  year          sector  count\n",
       "0      0  2006  Private Sector   6109\n",
       "1      1  2007  Private Sector   6112\n",
       "2      2  2008  Private Sector   6224\n",
       "3      3  2009  Private Sector   6463\n",
       "4      4  2010  Private Sector   6965"
      ]
     },
     "execution_count": 61,
     "metadata": {},
     "output_type": "execute_result"
    }
   ],
   "source": [
    "nm_private_sector = nurses_midwives_df[nurses_midwives_df['sector'] == 'Private Sector']\n",
    "nm_private_counts = nm_private_sector.groupby(['year', 'sector'],as_index=False)['count'].sum().reset_index()\n",
    "# for the purposes of shortening output, print the head of dataframe\n",
    "nm_private_counts.head(5)"
   ]
  },
  {
   "cell_type": "code",
   "execution_count": 62,
   "id": "b9bac5ed-c05f-4439-aa98-50b5e506ec35",
   "metadata": {},
   "outputs": [
    {
     "data": {
      "text/html": [
       "<div>\n",
       "<style scoped>\n",
       "    .dataframe tbody tr th:only-of-type {\n",
       "        vertical-align: middle;\n",
       "    }\n",
       "\n",
       "    .dataframe tbody tr th {\n",
       "        vertical-align: top;\n",
       "    }\n",
       "\n",
       "    .dataframe thead th {\n",
       "        text-align: right;\n",
       "    }\n",
       "</style>\n",
       "<table border=\"1\" class=\"dataframe\">\n",
       "  <thead>\n",
       "    <tr style=\"text-align: right;\">\n",
       "      <th></th>\n",
       "      <th>index</th>\n",
       "      <th>year</th>\n",
       "      <th>sector</th>\n",
       "      <th>count</th>\n",
       "    </tr>\n",
       "  </thead>\n",
       "  <tbody>\n",
       "    <tr>\n",
       "      <th>0</th>\n",
       "      <td>0</td>\n",
       "      <td>2006</td>\n",
       "      <td>Not in Active Practice</td>\n",
       "      <td>3244</td>\n",
       "    </tr>\n",
       "    <tr>\n",
       "      <th>1</th>\n",
       "      <td>1</td>\n",
       "      <td>2007</td>\n",
       "      <td>Not in Active Practice</td>\n",
       "      <td>3926</td>\n",
       "    </tr>\n",
       "    <tr>\n",
       "      <th>2</th>\n",
       "      <td>2</td>\n",
       "      <td>2008</td>\n",
       "      <td>Not in Active Practice</td>\n",
       "      <td>4274</td>\n",
       "    </tr>\n",
       "    <tr>\n",
       "      <th>3</th>\n",
       "      <td>3</td>\n",
       "      <td>2009</td>\n",
       "      <td>Not in Active Practice</td>\n",
       "      <td>4654</td>\n",
       "    </tr>\n",
       "    <tr>\n",
       "      <th>4</th>\n",
       "      <td>4</td>\n",
       "      <td>2010</td>\n",
       "      <td>Not in Active Practice</td>\n",
       "      <td>4762</td>\n",
       "    </tr>\n",
       "  </tbody>\n",
       "</table>\n",
       "</div>"
      ],
      "text/plain": [
       "   index  year                  sector  count\n",
       "0      0  2006  Not in Active Practice   3244\n",
       "1      1  2007  Not in Active Practice   3926\n",
       "2      2  2008  Not in Active Practice   4274\n",
       "3      3  2009  Not in Active Practice   4654\n",
       "4      4  2010  Not in Active Practice   4762"
      ]
     },
     "execution_count": 62,
     "metadata": {},
     "output_type": "execute_result"
    }
   ],
   "source": [
    "nm_inactive = nurses_midwives_df[nurses_midwives_df['sector'] == 'Not in Active Practice']\n",
    "nm_inactive_counts = nm_inactive.groupby(['year', 'sector'],as_index=False)['count'].sum().reset_index()\n",
    "# for the purposes of shortening output, print the head of dataframe\n",
    "nm_inactive_counts.head(5)"
   ]
  },
  {
   "cell_type": "markdown",
   "id": "b90b5b90-746c-447c-9de3-1b3e3988a752",
   "metadata": {},
   "source": [
    "Plot dataframe into a Line Plot using matplotlib library"
   ]
  },
  {
   "cell_type": "code",
   "execution_count": 64,
   "id": "fbbf1e7f-f324-4c00-9ca4-341e251c7104",
   "metadata": {},
   "outputs": [
    {
     "data": {
      "text/plain": [
       "Text(0.5, 1.0, 'Fig. 2 Number of Nurses and Midwives')"
      ]
     },
     "execution_count": 64,
     "metadata": {},
     "output_type": "execute_result"
    },
    {
     "data": {
      "image/png": "[encoded data removed]",
      "text/plain": [
       "<Figure size 640x480 with 1 Axes>"
      ]
     },
     "metadata": {},
     "output_type": "display_data"
    }
   ],
   "source": [
    "fig, nurses_midwives_plot = plt.subplots()\n",
    "nurses_midwives_plot.plot(nm_public_counts['year'],nm_public_counts['count'], label = 'Public')\n",
    "nurses_midwives_plot.plot(nm_private_counts['year'],nm_private_counts['count'], label = 'Private')\n",
    "nurses_midwives_plot.plot(nm_inactive_counts['year'],nm_inactive_counts['count'], label = 'Inactive')\n",
    "nurses_midwives_plot.legend()\n",
    "\n",
    "nurses_midwives_plot.set_xlabel(\"Year\")\n",
    "nurses_midwives_plot.set_ylabel(\"Count\")\n",
    "nurses_midwives_plot.set_title(\"Fig. 2 Number of Nurses and Midwives\")"
   ]
  },
  {
   "cell_type": "markdown",
   "id": "5136ead8-214c-4e54-a190-656cb9ad57f2",
   "metadata": {},
   "source": [
    "#### 3.2.3 Analysis of Advanced practice nurses, nurses and midwives"
   ]
  },
  {
   "cell_type": "markdown",
   "id": "a5321896-12d9-468e-b838-e677e6ec2115",
   "metadata": {},
   "source": [
    "Analysis of the plotted line graphs reveals that the public sector has experienced a significantly greater increase in the number of advanced practice nurses, as well as registered nurses and midwives, compared to the private sector over the observed period. This trend suggests a more substantial expansion of the public healthcare workforce, potentially reflecting targeted policies or resource allocation favoring public sector healthcare services."
   ]
  },
  {
   "cell_type": "markdown",
   "id": "f3394622-88b4-4824-b1b2-ef242001aac9",
   "metadata": {},
   "source": [
    "Further findings show that there was increased attention towards the nursing sector with new avenues of pursuing a career in nursing opening up. [5][6]"
   ]
  },
  {
   "cell_type": "markdown",
   "id": "1c06413a-0620-4258-9fc0-2bcab310bff8",
   "metadata": {},
   "source": [
    "Besides the increased focus on the general career of nursing, more benefits have been provided to the nurses in the public sector. [7] This would contribute to the great rise in nurses in the public sector compared to the private sector."
   ]
  },
  {
   "cell_type": "markdown",
   "id": "0d878558-f2d9-462c-ac91-724c3b6bbcce",
   "metadata": {},
   "source": [
    "### 3.3 Therapists"
   ]
  },
  {
   "cell_type": "markdown",
   "id": "19c7d6b9-9b93-4be1-810b-a2b7a5288b47",
   "metadata": {},
   "source": [
    "The steps for analysing the counts for the therapists profession group are\\\n",
    "Step 1: Import the CSV files containing the data\\\n",
    "Step 2: Separate the profession counts into sectors - public, private and inactive\\\n",
    "Step 3: Once all professions (speech therapists, occupational therapists and physiotherapists) have been seperated into sectors, combine each data set for the seperated sectors\\\n",
    "Step 4: According to the combine sectors, plot a graph of healthcare workforce count against the years\\\n",
    "Step 5: Observe and understand the graph trends, finding further research on possible causes for the trends"
   ]
  },
  {
   "cell_type": "markdown",
   "id": "219133cb-4abc-4359-8cd8-ad6a1b783809",
   "metadata": {},
   "source": [
    "#### 3.3.1 Speech Therapists"
   ]
  },
  {
   "cell_type": "markdown",
   "id": "26ebdd58-2cbe-4cd4-acda-4f7221266b5c",
   "metadata": {},
   "source": [
    "Import and display \"NumberofSpeechTherapists.csv\" using pandas library."
   ]
  },
  {
   "cell_type": "code",
   "execution_count": 72,
   "id": "c04acb9f-7242-4520-a1f8-f3d06a2d12d7",
   "metadata": {},
   "outputs": [
    {
     "data": {
      "text/html": [
       "<div>\n",
       "<style scoped>\n",
       "    .dataframe tbody tr th:only-of-type {\n",
       "        vertical-align: middle;\n",
       "    }\n",
       "\n",
       "    .dataframe tbody tr th {\n",
       "        vertical-align: top;\n",
       "    }\n",
       "\n",
       "    .dataframe thead th {\n",
       "        text-align: right;\n",
       "    }\n",
       "</style>\n",
       "<table border=\"1\" class=\"dataframe\">\n",
       "  <thead>\n",
       "    <tr style=\"text-align: right;\">\n",
       "      <th></th>\n",
       "      <th>year</th>\n",
       "      <th>sector</th>\n",
       "      <th>count</th>\n",
       "    </tr>\n",
       "  </thead>\n",
       "  <tbody>\n",
       "    <tr>\n",
       "      <th>0</th>\n",
       "      <td>2014</td>\n",
       "      <td>Public Sector</td>\n",
       "      <td>193</td>\n",
       "    </tr>\n",
       "    <tr>\n",
       "      <th>1</th>\n",
       "      <td>2014</td>\n",
       "      <td>Private Sector</td>\n",
       "      <td>207</td>\n",
       "    </tr>\n",
       "    <tr>\n",
       "      <th>2</th>\n",
       "      <td>2014</td>\n",
       "      <td>Not in Active Practice</td>\n",
       "      <td>0</td>\n",
       "    </tr>\n",
       "    <tr>\n",
       "      <th>3</th>\n",
       "      <td>2015</td>\n",
       "      <td>Public Sector</td>\n",
       "      <td>212</td>\n",
       "    </tr>\n",
       "    <tr>\n",
       "      <th>4</th>\n",
       "      <td>2015</td>\n",
       "      <td>Private Sector</td>\n",
       "      <td>244</td>\n",
       "    </tr>\n",
       "  </tbody>\n",
       "</table>\n",
       "</div>"
      ],
      "text/plain": [
       "   year                  sector  count\n",
       "0  2014           Public Sector    193\n",
       "1  2014          Private Sector    207\n",
       "2  2014  Not in Active Practice      0\n",
       "3  2015           Public Sector    212\n",
       "4  2015          Private Sector    244"
      ]
     },
     "execution_count": 72,
     "metadata": {},
     "output_type": "execute_result"
    }
   ],
   "source": [
    "speech_therapists_df = pd.read_csv(\"NumberofSpeechTherapists.csv\")\n",
    "\n",
    "# for purposes of shortening output, print the head of the dataframe\n",
    "speech_therapists_df.head(5)"
   ]
  },
  {
   "cell_type": "markdown",
   "id": "4fcfb892-086a-4fcf-82ff-bba90dda1de0",
   "metadata": {},
   "source": [
    "Assign each sector to independent variables for graph plotting."
   ]
  },
  {
   "cell_type": "code",
   "execution_count": 74,
   "id": "8561b8d9-bd4d-42a1-807d-ab2e72df4a07",
   "metadata": {},
   "outputs": [],
   "source": [
    "st_public_sector = speech_therapists_df[speech_therapists_df['sector'] == 'Public Sector']\n",
    "st_private_sector = speech_therapists_df[speech_therapists_df['sector'] == 'Private Sector']\n",
    "st_inactive = speech_therapists_df[speech_therapists_df['sector'] == 'Not in Active Practice']"
   ]
  },
  {
   "cell_type": "markdown",
   "id": "57e54afa-7c36-4f12-8550-a0c8aa8b360a",
   "metadata": {},
   "source": [
    "#### 3.3.2 Occupational Therapists"
   ]
  },
  {
   "cell_type": "markdown",
   "id": "1f839fb6-bab9-43ad-8d3b-d72105ba95cb",
   "metadata": {},
   "source": [
    "Import and display \"NumberofOccupationalTherapists.csv\" using pandas library."
   ]
  },
  {
   "cell_type": "code",
   "execution_count": 77,
   "id": "ffa59087-d962-4820-89ea-f8f065b36f07",
   "metadata": {},
   "outputs": [
    {
     "data": {
      "text/html": [
       "<div>\n",
       "<style scoped>\n",
       "    .dataframe tbody tr th:only-of-type {\n",
       "        vertical-align: middle;\n",
       "    }\n",
       "\n",
       "    .dataframe tbody tr th {\n",
       "        vertical-align: top;\n",
       "    }\n",
       "\n",
       "    .dataframe thead th {\n",
       "        text-align: right;\n",
       "    }\n",
       "</style>\n",
       "<table border=\"1\" class=\"dataframe\">\n",
       "  <thead>\n",
       "    <tr style=\"text-align: right;\">\n",
       "      <th></th>\n",
       "      <th>year</th>\n",
       "      <th>sector</th>\n",
       "      <th>count</th>\n",
       "    </tr>\n",
       "  </thead>\n",
       "  <tbody>\n",
       "    <tr>\n",
       "      <th>0</th>\n",
       "      <td>2014</td>\n",
       "      <td>Public Sector</td>\n",
       "      <td>501</td>\n",
       "    </tr>\n",
       "    <tr>\n",
       "      <th>1</th>\n",
       "      <td>2014</td>\n",
       "      <td>Private Sector</td>\n",
       "      <td>403</td>\n",
       "    </tr>\n",
       "    <tr>\n",
       "      <th>2</th>\n",
       "      <td>2014</td>\n",
       "      <td>Not in Active Practice</td>\n",
       "      <td>1</td>\n",
       "    </tr>\n",
       "    <tr>\n",
       "      <th>3</th>\n",
       "      <td>2015</td>\n",
       "      <td>Public Sector</td>\n",
       "      <td>498</td>\n",
       "    </tr>\n",
       "    <tr>\n",
       "      <th>4</th>\n",
       "      <td>2015</td>\n",
       "      <td>Private Sector</td>\n",
       "      <td>429</td>\n",
       "    </tr>\n",
       "  </tbody>\n",
       "</table>\n",
       "</div>"
      ],
      "text/plain": [
       "   year                  sector  count\n",
       "0  2014           Public Sector    501\n",
       "1  2014          Private Sector    403\n",
       "2  2014  Not in Active Practice      1\n",
       "3  2015           Public Sector    498\n",
       "4  2015          Private Sector    429"
      ]
     },
     "execution_count": 77,
     "metadata": {},
     "output_type": "execute_result"
    }
   ],
   "source": [
    "occupational_therapists_df = pd.read_csv(\"NumberofOccupationalTherapists.csv\")\n",
    "\n",
    "# for purposes of shortening output, print the head of the dataframe\n",
    "occupational_therapists_df.head(5)"
   ]
  },
  {
   "cell_type": "markdown",
   "id": "32667f91-191d-4270-84ed-b342c39d70e8",
   "metadata": {},
   "source": [
    "Assign each sector to independent variables for graph plotting."
   ]
  },
  {
   "cell_type": "code",
   "execution_count": 79,
   "id": "892d85a4-171d-4921-8238-e66382237699",
   "metadata": {},
   "outputs": [],
   "source": [
    "ot_public_sector = occupational_therapists_df[occupational_therapists_df['sector'] == 'Public Sector']\n",
    "ot_private_sector = occupational_therapists_df[occupational_therapists_df['sector'] == 'Private Sector']\n",
    "ot_inactive = occupational_therapists_df[occupational_therapists_df['sector'] == 'Not in Active Practice']"
   ]
  },
  {
   "cell_type": "markdown",
   "id": "91879c0e-2639-49bf-885b-84ce38975b3d",
   "metadata": {},
   "source": [
    "#### 3.3.3 Physiotherapists"
   ]
  },
  {
   "cell_type": "markdown",
   "id": "157ab423-107d-435f-9df3-0424298d466a",
   "metadata": {},
   "source": [
    "Import and display \"NumberofPhysiotherapists.csv\" using pandas library."
   ]
  },
  {
   "cell_type": "code",
   "execution_count": 82,
   "id": "7c81c272-eb98-4c30-9ba3-b5c4825cba3b",
   "metadata": {},
   "outputs": [
    {
     "data": {
      "text/html": [
       "<div>\n",
       "<style scoped>\n",
       "    .dataframe tbody tr th:only-of-type {\n",
       "        vertical-align: middle;\n",
       "    }\n",
       "\n",
       "    .dataframe tbody tr th {\n",
       "        vertical-align: top;\n",
       "    }\n",
       "\n",
       "    .dataframe thead th {\n",
       "        text-align: right;\n",
       "    }\n",
       "</style>\n",
       "<table border=\"1\" class=\"dataframe\">\n",
       "  <thead>\n",
       "    <tr style=\"text-align: right;\">\n",
       "      <th></th>\n",
       "      <th>year</th>\n",
       "      <th>sector</th>\n",
       "      <th>count</th>\n",
       "    </tr>\n",
       "  </thead>\n",
       "  <tbody>\n",
       "    <tr>\n",
       "      <th>0</th>\n",
       "      <td>2014</td>\n",
       "      <td>Public Sector</td>\n",
       "      <td>861</td>\n",
       "    </tr>\n",
       "    <tr>\n",
       "      <th>1</th>\n",
       "      <td>2014</td>\n",
       "      <td>Private Sector</td>\n",
       "      <td>531</td>\n",
       "    </tr>\n",
       "    <tr>\n",
       "      <th>2</th>\n",
       "      <td>2014</td>\n",
       "      <td>Not in Active Practice</td>\n",
       "      <td>2</td>\n",
       "    </tr>\n",
       "    <tr>\n",
       "      <th>3</th>\n",
       "      <td>2015</td>\n",
       "      <td>Public Sector</td>\n",
       "      <td>877</td>\n",
       "    </tr>\n",
       "    <tr>\n",
       "      <th>4</th>\n",
       "      <td>2015</td>\n",
       "      <td>Private Sector</td>\n",
       "      <td>606</td>\n",
       "    </tr>\n",
       "  </tbody>\n",
       "</table>\n",
       "</div>"
      ],
      "text/plain": [
       "   year                  sector  count\n",
       "0  2014           Public Sector    861\n",
       "1  2014          Private Sector    531\n",
       "2  2014  Not in Active Practice      2\n",
       "3  2015           Public Sector    877\n",
       "4  2015          Private Sector    606"
      ]
     },
     "execution_count": 82,
     "metadata": {},
     "output_type": "execute_result"
    }
   ],
   "source": [
    "physiotherapists_df = pd.read_csv(\"NumberofPhysiotherapists.csv\")\n",
    "\n",
    "# for purposes of shortening output, print the head of the dataframe\n",
    "physiotherapists_df.head(5)"
   ]
  },
  {
   "cell_type": "markdown",
   "id": "56747357-3260-41b6-8347-c949b93f977e",
   "metadata": {},
   "source": [
    "Assign each sector to independent variables for graph plotting."
   ]
  },
  {
   "cell_type": "code",
   "execution_count": 84,
   "id": "8e34d625-408f-45c5-b316-7d761c2198d4",
   "metadata": {},
   "outputs": [],
   "source": [
    "pt_public_sector = physiotherapists_df[physiotherapists_df['sector'] == 'Public Sector']\n",
    "pt_private_sector = physiotherapists_df[physiotherapists_df['sector'] == 'Private Sector']\n",
    "pt_inactive = physiotherapists_df[physiotherapists_df['sector'] == 'Not in Active Practice']"
   ]
  },
  {
   "cell_type": "markdown",
   "id": "4ffaedde-aa9e-4fac-b89f-65ce4a833db5",
   "metadata": {},
   "source": [
    "Combine the dataframes for public, private and inactive, matching the years and summing the counts"
   ]
  },
  {
   "cell_type": "markdown",
   "id": "1125d926-380e-449b-bf2d-a4ab262b3bbb",
   "metadata": {},
   "source": [
    "#### <b>3.3.4 Therapists in public sector<b>"
   ]
  },
  {
   "cell_type": "code",
   "execution_count": 87,
   "id": "6cc3145e-863b-4745-8904-1c09a30efb1d",
   "metadata": {},
   "outputs": [
    {
     "data": {
      "text/html": [
       "<div>\n",
       "<style scoped>\n",
       "    .dataframe tbody tr th:only-of-type {\n",
       "        vertical-align: middle;\n",
       "    }\n",
       "\n",
       "    .dataframe tbody tr th {\n",
       "        vertical-align: top;\n",
       "    }\n",
       "\n",
       "    .dataframe thead th {\n",
       "        text-align: right;\n",
       "    }\n",
       "</style>\n",
       "<table border=\"1\" class=\"dataframe\">\n",
       "  <thead>\n",
       "    <tr style=\"text-align: right;\">\n",
       "      <th></th>\n",
       "      <th>year</th>\n",
       "      <th>sector</th>\n",
       "      <th>count</th>\n",
       "    </tr>\n",
       "  </thead>\n",
       "  <tbody>\n",
       "    <tr>\n",
       "      <th>0</th>\n",
       "      <td>2014</td>\n",
       "      <td>Public Sector</td>\n",
       "      <td>193</td>\n",
       "    </tr>\n",
       "    <tr>\n",
       "      <th>3</th>\n",
       "      <td>2015</td>\n",
       "      <td>Public Sector</td>\n",
       "      <td>212</td>\n",
       "    </tr>\n",
       "    <tr>\n",
       "      <th>6</th>\n",
       "      <td>2016</td>\n",
       "      <td>Public Sector</td>\n",
       "      <td>215</td>\n",
       "    </tr>\n",
       "    <tr>\n",
       "      <th>9</th>\n",
       "      <td>2017</td>\n",
       "      <td>Public Sector</td>\n",
       "      <td>232</td>\n",
       "    </tr>\n",
       "    <tr>\n",
       "      <th>12</th>\n",
       "      <td>2018</td>\n",
       "      <td>Public Sector</td>\n",
       "      <td>246</td>\n",
       "    </tr>\n",
       "  </tbody>\n",
       "</table>\n",
       "</div>"
      ],
      "text/plain": [
       "    year         sector  count\n",
       "0   2014  Public Sector    193\n",
       "3   2015  Public Sector    212\n",
       "6   2016  Public Sector    215\n",
       "9   2017  Public Sector    232\n",
       "12  2018  Public Sector    246"
      ]
     },
     "execution_count": 87,
     "metadata": {},
     "output_type": "execute_result"
    }
   ],
   "source": [
    "combined_public_df = pd.concat([st_public_sector,ot_public_sector,pt_public_sector])\n",
    "# print(combined_public_df) \n",
    "combined_public_df.head(5)"
   ]
  },
  {
   "cell_type": "code",
   "execution_count": 88,
   "id": "627092de-fab7-434e-a7ee-e5f4b2127f61",
   "metadata": {},
   "outputs": [
    {
     "data": {
      "text/html": [
       "<div>\n",
       "<style scoped>\n",
       "    .dataframe tbody tr th:only-of-type {\n",
       "        vertical-align: middle;\n",
       "    }\n",
       "\n",
       "    .dataframe tbody tr th {\n",
       "        vertical-align: top;\n",
       "    }\n",
       "\n",
       "    .dataframe thead th {\n",
       "        text-align: right;\n",
       "    }\n",
       "</style>\n",
       "<table border=\"1\" class=\"dataframe\">\n",
       "  <thead>\n",
       "    <tr style=\"text-align: right;\">\n",
       "      <th></th>\n",
       "      <th>year</th>\n",
       "      <th>sector</th>\n",
       "      <th>count</th>\n",
       "    </tr>\n",
       "  </thead>\n",
       "  <tbody>\n",
       "    <tr>\n",
       "      <th>0</th>\n",
       "      <td>2014</td>\n",
       "      <td>Public Sector</td>\n",
       "      <td>1555</td>\n",
       "    </tr>\n",
       "    <tr>\n",
       "      <th>1</th>\n",
       "      <td>2015</td>\n",
       "      <td>Public Sector</td>\n",
       "      <td>1587</td>\n",
       "    </tr>\n",
       "    <tr>\n",
       "      <th>2</th>\n",
       "      <td>2016</td>\n",
       "      <td>Public Sector</td>\n",
       "      <td>1635</td>\n",
       "    </tr>\n",
       "    <tr>\n",
       "      <th>3</th>\n",
       "      <td>2017</td>\n",
       "      <td>Public Sector</td>\n",
       "      <td>1626</td>\n",
       "    </tr>\n",
       "    <tr>\n",
       "      <th>4</th>\n",
       "      <td>2018</td>\n",
       "      <td>Public Sector</td>\n",
       "      <td>1745</td>\n",
       "    </tr>\n",
       "  </tbody>\n",
       "</table>\n",
       "</div>"
      ],
      "text/plain": [
       "   year         sector  count\n",
       "0  2014  Public Sector   1555\n",
       "1  2015  Public Sector   1587\n",
       "2  2016  Public Sector   1635\n",
       "3  2017  Public Sector   1626\n",
       "4  2018  Public Sector   1745"
      ]
     },
     "execution_count": 88,
     "metadata": {},
     "output_type": "execute_result"
    }
   ],
   "source": [
    "sum_public_df = combined_public_df.groupby(['year','sector'],as_index=False)['count'].sum()\n",
    "sum_public_df.head(5)"
   ]
  },
  {
   "cell_type": "markdown",
   "id": "0b2583f4-603a-4200-be87-c1e727d8f460",
   "metadata": {},
   "source": [
    "#### <b>3.3.5 Therapists in private sector<b>"
   ]
  },
  {
   "cell_type": "code",
   "execution_count": 90,
   "id": "bb1a3b3f-c0b3-4983-9637-b15943dc65c9",
   "metadata": {},
   "outputs": [
    {
     "data": {
      "text/html": [
       "<div>\n",
       "<style scoped>\n",
       "    .dataframe tbody tr th:only-of-type {\n",
       "        vertical-align: middle;\n",
       "    }\n",
       "\n",
       "    .dataframe tbody tr th {\n",
       "        vertical-align: top;\n",
       "    }\n",
       "\n",
       "    .dataframe thead th {\n",
       "        text-align: right;\n",
       "    }\n",
       "</style>\n",
       "<table border=\"1\" class=\"dataframe\">\n",
       "  <thead>\n",
       "    <tr style=\"text-align: right;\">\n",
       "      <th></th>\n",
       "      <th>year</th>\n",
       "      <th>sector</th>\n",
       "      <th>count</th>\n",
       "    </tr>\n",
       "  </thead>\n",
       "  <tbody>\n",
       "    <tr>\n",
       "      <th>1</th>\n",
       "      <td>2014</td>\n",
       "      <td>Private Sector</td>\n",
       "      <td>207</td>\n",
       "    </tr>\n",
       "    <tr>\n",
       "      <th>4</th>\n",
       "      <td>2015</td>\n",
       "      <td>Private Sector</td>\n",
       "      <td>244</td>\n",
       "    </tr>\n",
       "    <tr>\n",
       "      <th>7</th>\n",
       "      <td>2016</td>\n",
       "      <td>Private Sector</td>\n",
       "      <td>269</td>\n",
       "    </tr>\n",
       "    <tr>\n",
       "      <th>10</th>\n",
       "      <td>2017</td>\n",
       "      <td>Private Sector</td>\n",
       "      <td>307</td>\n",
       "    </tr>\n",
       "    <tr>\n",
       "      <th>13</th>\n",
       "      <td>2018</td>\n",
       "      <td>Private Sector</td>\n",
       "      <td>319</td>\n",
       "    </tr>\n",
       "  </tbody>\n",
       "</table>\n",
       "</div>"
      ],
      "text/plain": [
       "    year          sector  count\n",
       "1   2014  Private Sector    207\n",
       "4   2015  Private Sector    244\n",
       "7   2016  Private Sector    269\n",
       "10  2017  Private Sector    307\n",
       "13  2018  Private Sector    319"
      ]
     },
     "execution_count": 90,
     "metadata": {},
     "output_type": "execute_result"
    }
   ],
   "source": [
    "combined_private_df = pd.concat([st_private_sector,ot_private_sector,pt_private_sector])\n",
    "combined_private_df.head(5)"
   ]
  },
  {
   "cell_type": "code",
   "execution_count": 91,
   "id": "f93f2cfb-8d87-41e3-a8a2-5e00d330d2a9",
   "metadata": {},
   "outputs": [
    {
     "data": {
      "text/html": [
       "<div>\n",
       "<style scoped>\n",
       "    .dataframe tbody tr th:only-of-type {\n",
       "        vertical-align: middle;\n",
       "    }\n",
       "\n",
       "    .dataframe tbody tr th {\n",
       "        vertical-align: top;\n",
       "    }\n",
       "\n",
       "    .dataframe thead th {\n",
       "        text-align: right;\n",
       "    }\n",
       "</style>\n",
       "<table border=\"1\" class=\"dataframe\">\n",
       "  <thead>\n",
       "    <tr style=\"text-align: right;\">\n",
       "      <th></th>\n",
       "      <th>year</th>\n",
       "      <th>sector</th>\n",
       "      <th>count</th>\n",
       "    </tr>\n",
       "  </thead>\n",
       "  <tbody>\n",
       "    <tr>\n",
       "      <th>0</th>\n",
       "      <td>2014</td>\n",
       "      <td>Private Sector</td>\n",
       "      <td>1141</td>\n",
       "    </tr>\n",
       "    <tr>\n",
       "      <th>1</th>\n",
       "      <td>2015</td>\n",
       "      <td>Private Sector</td>\n",
       "      <td>1279</td>\n",
       "    </tr>\n",
       "    <tr>\n",
       "      <th>2</th>\n",
       "      <td>2016</td>\n",
       "      <td>Private Sector</td>\n",
       "      <td>1428</td>\n",
       "    </tr>\n",
       "    <tr>\n",
       "      <th>3</th>\n",
       "      <td>2017</td>\n",
       "      <td>Private Sector</td>\n",
       "      <td>1580</td>\n",
       "    </tr>\n",
       "    <tr>\n",
       "      <th>4</th>\n",
       "      <td>2018</td>\n",
       "      <td>Private Sector</td>\n",
       "      <td>1652</td>\n",
       "    </tr>\n",
       "  </tbody>\n",
       "</table>\n",
       "</div>"
      ],
      "text/plain": [
       "   year          sector  count\n",
       "0  2014  Private Sector   1141\n",
       "1  2015  Private Sector   1279\n",
       "2  2016  Private Sector   1428\n",
       "3  2017  Private Sector   1580\n",
       "4  2018  Private Sector   1652"
      ]
     },
     "execution_count": 91,
     "metadata": {},
     "output_type": "execute_result"
    }
   ],
   "source": [
    "sum_private_df = combined_private_df.groupby(['year','sector'],as_index=False)['count'].sum()\n",
    "sum_private_df.head(5)"
   ]
  },
  {
   "cell_type": "markdown",
   "id": "aa539aaf-c383-41b0-bdfa-270ee4a7689c",
   "metadata": {},
   "source": [
    "#### <b>3.3.6 Inactive Therapists<b>"
   ]
  },
  {
   "cell_type": "code",
   "execution_count": 93,
   "id": "d48fbe2b-5225-44ed-aab3-5f936435e201",
   "metadata": {},
   "outputs": [
    {
     "data": {
      "text/html": [
       "<div>\n",
       "<style scoped>\n",
       "    .dataframe tbody tr th:only-of-type {\n",
       "        vertical-align: middle;\n",
       "    }\n",
       "\n",
       "    .dataframe tbody tr th {\n",
       "        vertical-align: top;\n",
       "    }\n",
       "\n",
       "    .dataframe thead th {\n",
       "        text-align: right;\n",
       "    }\n",
       "</style>\n",
       "<table border=\"1\" class=\"dataframe\">\n",
       "  <thead>\n",
       "    <tr style=\"text-align: right;\">\n",
       "      <th></th>\n",
       "      <th>year</th>\n",
       "      <th>sector</th>\n",
       "      <th>count</th>\n",
       "    </tr>\n",
       "  </thead>\n",
       "  <tbody>\n",
       "    <tr>\n",
       "      <th>2</th>\n",
       "      <td>2014</td>\n",
       "      <td>Not in Active Practice</td>\n",
       "      <td>0</td>\n",
       "    </tr>\n",
       "    <tr>\n",
       "      <th>5</th>\n",
       "      <td>2015</td>\n",
       "      <td>Not in Active Practice</td>\n",
       "      <td>18</td>\n",
       "    </tr>\n",
       "    <tr>\n",
       "      <th>8</th>\n",
       "      <td>2016</td>\n",
       "      <td>Not in Active Practice</td>\n",
       "      <td>40</td>\n",
       "    </tr>\n",
       "    <tr>\n",
       "      <th>11</th>\n",
       "      <td>2017</td>\n",
       "      <td>Not in Active Practice</td>\n",
       "      <td>56</td>\n",
       "    </tr>\n",
       "    <tr>\n",
       "      <th>14</th>\n",
       "      <td>2018</td>\n",
       "      <td>Not in Active Practice</td>\n",
       "      <td>77</td>\n",
       "    </tr>\n",
       "  </tbody>\n",
       "</table>\n",
       "</div>"
      ],
      "text/plain": [
       "    year                  sector  count\n",
       "2   2014  Not in Active Practice      0\n",
       "5   2015  Not in Active Practice     18\n",
       "8   2016  Not in Active Practice     40\n",
       "11  2017  Not in Active Practice     56\n",
       "14  2018  Not in Active Practice     77"
      ]
     },
     "execution_count": 93,
     "metadata": {},
     "output_type": "execute_result"
    }
   ],
   "source": [
    "combined_inactive_df = pd.concat([st_inactive,ot_inactive,pt_inactive])\n",
    "combined_inactive_df.head(5)"
   ]
  },
  {
   "cell_type": "code",
   "execution_count": 94,
   "id": "48cbcf81-9d49-4b78-b6cd-2dec49b6385c",
   "metadata": {},
   "outputs": [
    {
     "data": {
      "text/html": [
       "<div>\n",
       "<style scoped>\n",
       "    .dataframe tbody tr th:only-of-type {\n",
       "        vertical-align: middle;\n",
       "    }\n",
       "\n",
       "    .dataframe tbody tr th {\n",
       "        vertical-align: top;\n",
       "    }\n",
       "\n",
       "    .dataframe thead th {\n",
       "        text-align: right;\n",
       "    }\n",
       "</style>\n",
       "<table border=\"1\" class=\"dataframe\">\n",
       "  <thead>\n",
       "    <tr style=\"text-align: right;\">\n",
       "      <th></th>\n",
       "      <th>year</th>\n",
       "      <th>sector</th>\n",
       "      <th>count</th>\n",
       "    </tr>\n",
       "  </thead>\n",
       "  <tbody>\n",
       "    <tr>\n",
       "      <th>0</th>\n",
       "      <td>2014</td>\n",
       "      <td>Not in Active Practice</td>\n",
       "      <td>3</td>\n",
       "    </tr>\n",
       "    <tr>\n",
       "      <th>1</th>\n",
       "      <td>2015</td>\n",
       "      <td>Not in Active Practice</td>\n",
       "      <td>124</td>\n",
       "    </tr>\n",
       "    <tr>\n",
       "      <th>2</th>\n",
       "      <td>2016</td>\n",
       "      <td>Not in Active Practice</td>\n",
       "      <td>221</td>\n",
       "    </tr>\n",
       "    <tr>\n",
       "      <th>3</th>\n",
       "      <td>2017</td>\n",
       "      <td>Not in Active Practice</td>\n",
       "      <td>328</td>\n",
       "    </tr>\n",
       "    <tr>\n",
       "      <th>4</th>\n",
       "      <td>2018</td>\n",
       "      <td>Not in Active Practice</td>\n",
       "      <td>413</td>\n",
       "    </tr>\n",
       "  </tbody>\n",
       "</table>\n",
       "</div>"
      ],
      "text/plain": [
       "   year                  sector  count\n",
       "0  2014  Not in Active Practice      3\n",
       "1  2015  Not in Active Practice    124\n",
       "2  2016  Not in Active Practice    221\n",
       "3  2017  Not in Active Practice    328\n",
       "4  2018  Not in Active Practice    413"
      ]
     },
     "execution_count": 94,
     "metadata": {},
     "output_type": "execute_result"
    }
   ],
   "source": [
    "sum_inactive_df = combined_inactive_df.groupby(['year','sector'],as_index=False)['count'].sum()\n",
    "sum_inactive_df.head(5)"
   ]
  },
  {
   "cell_type": "markdown",
   "id": "25e56e9e-74c7-4573-93dc-369f6a506a5a",
   "metadata": {},
   "source": [
    "Plot dataframes for therapists in a Line Plot"
   ]
  },
  {
   "cell_type": "code",
   "execution_count": 96,
   "id": "07318035-7d0d-4ae2-adb1-5264c4ca602f",
   "metadata": {},
   "outputs": [
    {
     "data": {
      "text/plain": [
       "Text(0.5, 1.0, 'Fig 3. Number of Therapists')"
      ]
     },
     "execution_count": 96,
     "metadata": {},
     "output_type": "execute_result"
    },
    {
     "data": {
      "image/png": "[encoded data removed]",
      "text/plain": [
       "<Figure size 640x480 with 1 Axes>"
      ]
     },
     "metadata": {},
     "output_type": "display_data"
    }
   ],
   "source": [
    "fig, therapists_plot = plt.subplots()\n",
    "therapists_plot.plot(sum_public_df['year'],sum_public_df['count'], label = 'Public')\n",
    "therapists_plot.plot(sum_private_df['year'],sum_private_df['count'], label = 'Private')\n",
    "therapists_plot.plot(sum_inactive_df['year'],sum_inactive_df['count'], label = 'Inactive')\n",
    "therapists_plot.legend()\n",
    "\n",
    "therapists_plot.set_xlabel(\"Year\")\n",
    "therapists_plot.set_ylabel(\"Count\")\n",
    "therapists_plot.set_title(\"Fig 3. Number of Therapists\")"
   ]
  },
  {
   "cell_type": "markdown",
   "id": "42df579f-2b1c-4ef5-8736-3dad9f3c7181",
   "metadata": {},
   "source": [
    "#### 3.3.7 Analysis of Speech Therapists, Occupational Therapists and Physiotherapists"
   ]
  },
  {
   "cell_type": "markdown",
   "id": "dede0779-c8f6-4b8d-aadd-3344afa35f1f",
   "metadata": {},
   "source": [
    "Analysis of the plotted graph lines reveal that the private sector experienced a greater increase in the number of therapists across the three occupations compared to the public sector. This trend suggests a lack of focus on the public sector for therapists as the therapists prefer working in the private sector."
   ]
  },
  {
   "cell_type": "markdown",
   "id": "45cc0711-db75-4939-98a7-49d277f10f47",
   "metadata": {},
   "source": [
    "It is unclear what the reason for this preference is as no concrete evidence could be found to explain this difference. We can speculate multiple reasons like work-life balance or salary difference, but we cannot confirm these reasons. Not enough focus has been placed in these allied health sectors and as such the reasons remain inconclusive. \n"
   ]
  },
  {
   "cell_type": "markdown",
   "id": "dbe6800c-f269-4614-bc29-19aa1bce4276",
   "metadata": {},
   "source": [
    "The fact that not enough focus is placed on these professions could also be proof that this occupation is not as recognised or supported in the healthcare world."
   ]
  },
  {
   "cell_type": "markdown",
   "id": "65d02c13-bf08-4041-9e4e-d83eee66115b",
   "metadata": {},
   "source": [
    "## 4 Exploring Healthcare Quality in Singapore"
   ]
  },
  {
   "cell_type": "markdown",
   "id": "ef1fc478-1deb-41d7-9d43-90e89390d6f1",
   "metadata": {},
   "source": [
    "This section will explore the trends and implications of healthcare quality in Singapore. Datasets for the healthcare quality in Singapore were obtained from Institute for Health Metrics and Evaluation.\n",
    "\n",
    "Webscraping will be used to import datasets used for this section and processed based on the requirements of the sub-sections."
   ]
  },
  {
   "cell_type": "markdown",
   "id": "6e2a79a9-acd9-4245-b2b9-5eb69e434728",
   "metadata": {},
   "source": [
    "The first part of section 4 will initialise the libraries used in order to import the HTML pages, including javascsript loaded elements, and parsing its contents. Following that, analysis of the healthcare quality index will take place. "
   ]
  },
  {
   "cell_type": "markdown",
   "id": "e470e551-954c-4359-b276-b0656030b093",
   "metadata": {},
   "source": [
    "The steps for analysing the healthcare quality in Singapore are\\\n",
    "Step 1: Import the HTML page into text using requests for healthcare quality data for 1990 to 2016 and for 2019\\\n",
    "Step 2: Parse the elements using BeautifulSoup\\\n",
    "Step 3: Use Selenium and browser drivers to search for and obtain elements in the page loaded by scripts\\\n",
    "Step 4: Create a CSV to store the healthcare quality according to the years and extract a dataframe from the new CSV file\\\n",
    "Step 5: According to the years, plot a graph of healthcare quality index against the years\\\n",
    "Step 6: Observe and understand the graph trends, finding further research on possible causes for the trends"
   ]
  },
  {
   "cell_type": "markdown",
   "id": "d8122c75-92e1-4c4a-90d7-5f71426e2122",
   "metadata": {},
   "source": [
    "### 4.1 Extract data for Healthcare Access and Quality Index (HAQ Index)"
   ]
  },
  {
   "cell_type": "markdown",
   "id": "5ecb57ec-9f3f-425c-ae81-0ac20306e2e7",
   "metadata": {},
   "source": [
    "#### <b>4.1.1 Importing data from HTML pages<b>"
   ]
  },
  {
   "cell_type": "markdown",
   "id": "94545cdc-a5f3-4d31-8218-fbfaf99e2207",
   "metadata": {},
   "source": [
    "To import data from an HTML page, we require the requests library. \\\n",
    "To install the requests library, we need to run the following code in a terminal: \\\n",
    "\"pip install requests\" \\\n",
    "We will import the requests library with the following code: \\\n",
    "\"import requests\""
   ]
  },
  {
   "cell_type": "code",
   "execution_count": 108,
   "id": "7211a96e-e34f-46c0-9f0a-e9dab5512d4f",
   "metadata": {},
   "outputs": [],
   "source": [
    "import requests"
   ]
  },
  {
   "cell_type": "markdown",
   "id": "24b936c8-82f4-4a21-82b3-ada60cb67f80",
   "metadata": {},
   "source": [
    "Using the function \"requests.get()\", we can input a URL to the function to obtain the HTML page. \\\n",
    "We then use the function \".text\" to convert the HTML page into text form."
   ]
  },
  {
   "cell_type": "code",
   "execution_count": 110,
   "id": "e3d53936-3530-4546-8024-77964beba130",
   "metadata": {},
   "outputs": [
    {
     "name": "stdout",
     "output_type": "stream",
     "text": [
      "<!DOCTYPE html><html lang=\"en-US\"><head><title>Just a moment...</title><meta http-equiv=\"Content-Typ\n"
     ]
    }
   ],
   "source": [
    "HAQ_1990_to_2016_url = \"https://www.thelancet.com/action/showFullTableHTML?isHtml=true&tableId=tbl2&pii=S0140-6736%2818%2930994-2\"\n",
    "HAQ_1990_to_2016_HTML = requests.get(HAQ_1990_to_2016_url)\n",
    "HAQ_1990_to_2016_text = HAQ_1990_to_2016_HTML.text\n",
    "print(HAQ_1990_to_2016_HTML.text[:100]) #print first 100 characters for cleaner output"
   ]
  },
  {
   "cell_type": "markdown",
   "id": "4699af3b-cace-446a-a4f5-171f709b98b6",
   "metadata": {},
   "source": [
    "#### <b>4.1.2 Parsing HTML pages<b>"
   ]
  },
  {
   "cell_type": "markdown",
   "id": "ccc79c3f-4203-4603-9d7f-caf4e04686ec",
   "metadata": {},
   "source": [
    "To parse the HTML page, we require BeautifulSoup. BeautifulSoup is Python package to parse HTML and XML documents. \\\n",
    "The purpose of using BeautifulSoup is to create a parse tree useful for web scraping, navigating, searching and modifying. \\\n",
    "We will import BeautifulSoup from bs4 with the following code: \\\n",
    "\"from bs4 import BeautifulSoup\""
   ]
  },
  {
   "cell_type": "code",
   "execution_count": 113,
   "id": "a9495663-71a8-4e8d-90d3-bd012f8c6c43",
   "metadata": {},
   "outputs": [],
   "source": [
    "from bs4 import BeautifulSoup"
   ]
  },
  {
   "cell_type": "markdown",
   "id": "9b36408b-0b38-443f-b08c-a55aaa8c421d",
   "metadata": {},
   "source": [
    "Using BeautifulSoup's HTML parser, we are able to generate a clean parse tree of the HTML elements."
   ]
  },
  {
   "cell_type": "code",
   "execution_count": 115,
   "id": "fb313da3-a791-4484-9657-284a4b1f1ca8",
   "metadata": {},
   "outputs": [
    {
     "name": "stdout",
     "output_type": "stream",
     "text": [
      " to continue\n",
      "      </span>\n",
      "     </div>\n",
      "    </noscript>\n",
      "   </div>\n",
      "  </div>\n",
      "  <script>\n",
      "   (function(){window._cf_chl_opt={cvId: '3',cZone: \"www.thelancet.com\",cType: 'managed',cRay: '8fa2a1ee9cfc833d',c\n"
     ]
    }
   ],
   "source": [
    "HAQ_1990_to_2016_soup = BeautifulSoup(HAQ_1990_to_2016_HTML.text,'html.parser')\n",
    "print(HAQ_1990_to_2016_soup.prettify()[2000:2200]) #print section using script"
   ]
  },
  {
   "cell_type": "markdown",
   "id": "7c36c373-6618-4928-9da1-29f6829a7df3",
   "metadata": {},
   "source": [
    "We note that there exists HTML elements of the table is loaded by Javascript. \\\n",
    "The use of Selenium is needed here to extract the Javascript information using appropriate browser drivers."
   ]
  },
  {
   "cell_type": "markdown",
   "id": "57767433-0efd-44a5-8fe7-05b909b67adc",
   "metadata": {},
   "source": [
    "#### <b>4.1.3 Importing data from Javascript loaded elements using Selenium<b>"
   ]
  },
  {
   "cell_type": "markdown",
   "id": "42ad22e4-ed42-438c-b6cf-30c0f075a02c",
   "metadata": {},
   "source": [
    "Selenium is used to automate browsers. We will use Selenium with browser drivers to obtain Javascript loaded elements.\\\n",
    "It is important to note that a stable internet connection is required to load the pages."
   ]
  },
  {
   "cell_type": "markdown",
   "id": "db89e3e2-479a-4116-be5f-86a966cf04ab",
   "metadata": {},
   "source": [
    "To install Selenium, we first have to use the following command in a terminal: \\\n",
    "\"pip install selenium\""
   ]
  },
  {
   "cell_type": "markdown",
   "id": "5a577fd0-2725-452f-a9bc-b3cdd5fad96e",
   "metadata": {},
   "source": [
    "Next we need to import the necessary modules from Selenium using the following: \\\n",
    "\\\n",
    "from selenium import webdriver \\\n",
    "from selenium.webdriver.common.by import By \\\n",
    "from selenium.webdriver.support.ui import WebDriverWait \\\n",
    "from selenium.webdriver.support import expected_conditions as EC"
   ]
  },
  {
   "cell_type": "code",
   "execution_count": 121,
   "id": "89210c9c-dc64-47d8-8bed-f39216b7333d",
   "metadata": {},
   "outputs": [],
   "source": [
    "from selenium import webdriver\n",
    "from selenium.webdriver.common.by import By\n",
    "from selenium.webdriver.support.ui import WebDriverWait\n",
    "from selenium.webdriver.support import expected_conditions as EC"
   ]
  },
  {
   "cell_type": "markdown",
   "id": "203e263d-269a-4a81-89b8-7e5dca6ab0a7",
   "metadata": {},
   "source": [
    "The last step would be identifying which drivers are needed to execute Selenium. This will be according to the user's browser. Below is the corresponding drivers needed for the appropriate browsers. It is to be noted that browser drivers are also dependent on machine type.\\\n",
    "Chrome → ChromeDriver \\\n",
    "Firefox → GeckoDriver \\\n",
    "Edge → EdgeDriver "
   ]
  },
  {
   "cell_type": "markdown",
   "id": "9b338b6c-3f60-4fec-92e2-0a0c41acd788",
   "metadata": {},
   "source": [
    "For convenience purposes, all drivers have been downloaded for macOS and stored together in the folder.\\\n",
    "If there is a need to rerun the cells, ensure that the proper driver type and version is downloaded."
   ]
  },
  {
   "cell_type": "markdown",
   "id": "11662d00-a853-4c37-b471-d5cb37c40f5e",
   "metadata": {},
   "source": [
    "Now that Selenium is installed and set up, we need to set up the drivers according to the browsers."
   ]
  },
  {
   "cell_type": "markdown",
   "id": "15f5e83b-722f-4c02-99bd-78bbb8a0c9c5",
   "metadata": {},
   "source": [
    "#### <b>Firefox<b>\n",
    "Set up the Selenium WebDriver for Firefox"
   ]
  },
  {
   "cell_type": "code",
   "execution_count": 179,
   "id": "dc1775bc-0461-459e-ba75-4e2ad58c3123",
   "metadata": {},
   "outputs": [],
   "source": [
    "from selenium.webdriver.firefox.service import Service\n",
    "\n",
    "gecko_driver_path = './geckodriver'\n",
    "ffox_service = Service(gecko_driver_path)"
   ]
  },
  {
   "cell_type": "markdown",
   "id": "4ee72649-6895-446c-94c8-a4549327ecfd",
   "metadata": {},
   "source": [
    "#### <b>Google Chrome (Chromium)<b>\n",
    "Set up the Selenium WebDriver for Chromium browsers\n"
   ]
  },
  {
   "cell_type": "code",
   "execution_count": 128,
   "id": "e32e8a8d-d5a5-4ecb-923e-aa787addd94c",
   "metadata": {},
   "outputs": [],
   "source": [
    "# from selenium.webdriver.chrome.service import Service\n",
    "\n",
    "# chrome_driver_path = './chromedriver'\n",
    "# chrome_service = Service(chrome_driver_path)"
   ]
  },
  {
   "cell_type": "markdown",
   "id": "e0488dd8-7c79-496d-b56b-f6540f21bc04",
   "metadata": {},
   "source": [
    "#### <b>Microsoft Edge<b>\n",
    "Set up the Selenium WebDriver for Microsoft Edge"
   ]
  },
  {
   "cell_type": "code",
   "execution_count": 130,
   "id": "2c667c2d-68c0-4a94-af3e-b191c4d5f678",
   "metadata": {},
   "outputs": [],
   "source": [
    "# from selenium.webdriver.edge.service import Service\n",
    "\n",
    "# edge_driver_path = './msedgedriver.exe'\n",
    "# edge_service = Service(edge_driver_path)"
   ]
  },
  {
   "cell_type": "markdown",
   "id": "80eb9d22-ce93-4217-945f-c5905d81e78e",
   "metadata": {},
   "source": [
    "If the Jupyter Notebook is open in Firefox, run the cell for Firefox. \\\n",
    "If the Jupyter Notebook is open in Google Chrome or Chromium based browsers, run the cell for Chromium browsers. \\\n",
    "If the Jupyter Notebook is open in Microsoft Edge, run the cell for Microsoft Edge. \\\n",
    "\\\n",
    "For convenience purposes, the Jupyter Notebook is open in Firefox and will be run in Firefox."
   ]
  },
  {
   "cell_type": "markdown",
   "id": "05d9c5b4-f07a-464f-bfa3-a874ff0a9123",
   "metadata": {},
   "source": [
    "#### <b>4.1.4 Importing HAQ Index data for 1990 to 2016<b>"
   ]
  },
  {
   "cell_type": "markdown",
   "id": "7960f737-ed82-4c3f-8875-fde659595afa",
   "metadata": {},
   "source": [
    "Open the HTML page and wait for Javascript elements to load then extract necessary information for HAQ Index from 1990 to 2016 \\\n",
    "\\\n",
    "Use exception handling of \"try\" and \"finally\" to avoid any complications while the driver is running."
   ]
  },
  {
   "cell_type": "code",
   "execution_count": 175,
   "id": "6c2ef1da-ead2-4bb6-bed4-91f9d12dc371",
   "metadata": {},
   "outputs": [
    {
     "ename": "SessionNotCreatedException",
     "evalue": "Message: Expected browser binary location, but unable to find binary in default location, no 'moz:firefoxOptions.binary' capability provided, and no binary flag set on the command line\n",
     "output_type": "error",
     "traceback": [
      "\u001b[1;31m---------------------------------------------------------------------------\u001b[0m",
      "\u001b[1;31mSessionNotCreatedException\u001b[0m                Traceback (most recent call last)",
      "Cell \u001b[1;32mIn[175], line 2\u001b[0m\n\u001b[0;32m      1\u001b[0m \u001b[38;5;66;03m# If browser is Firefox run:\u001b[39;00m\n\u001b[1;32m----> 2\u001b[0m driver \u001b[38;5;241m=\u001b[39m webdriver\u001b[38;5;241m.\u001b[39mFirefox(service\u001b[38;5;241m=\u001b[39mffox_service)\n\u001b[0;32m      4\u001b[0m \u001b[38;5;66;03m## If browser is Chromium run:\u001b[39;00m\n\u001b[0;32m      5\u001b[0m \u001b[38;5;66;03m# driver = webdriver.Chrome(service=chrome_service)\u001b[39;00m\n\u001b[0;32m      6\u001b[0m \n\u001b[0;32m      7\u001b[0m \u001b[38;5;66;03m## If browser is Microsoft Edge run:\u001b[39;00m\n\u001b[0;32m      8\u001b[0m \u001b[38;5;66;03m# driver = webdriver.Edge(service=edge_service)\u001b[39;00m\n\u001b[0;32m      9\u001b[0m \u001b[38;5;28;01mtry\u001b[39;00m:\n",
      "File \u001b[1;32m~\\anaconda3\\Lib\\site-packages\\selenium\\webdriver\\firefox\\webdriver.py:71\u001b[0m, in \u001b[0;36mWebDriver.__init__\u001b[1;34m(self, options, service, keep_alive)\u001b[0m\n\u001b[0;32m     64\u001b[0m executor \u001b[38;5;241m=\u001b[39m FirefoxRemoteConnection(\n\u001b[0;32m     65\u001b[0m     remote_server_addr\u001b[38;5;241m=\u001b[39m\u001b[38;5;28mself\u001b[39m\u001b[38;5;241m.\u001b[39mservice\u001b[38;5;241m.\u001b[39mservice_url,\n\u001b[0;32m     66\u001b[0m     keep_alive\u001b[38;5;241m=\u001b[39mkeep_alive,\n\u001b[0;32m     67\u001b[0m     ignore_proxy\u001b[38;5;241m=\u001b[39moptions\u001b[38;5;241m.\u001b[39m_ignore_local_proxy,\n\u001b[0;32m     68\u001b[0m )\n\u001b[0;32m     70\u001b[0m \u001b[38;5;28;01mtry\u001b[39;00m:\n\u001b[1;32m---> 71\u001b[0m     \u001b[38;5;28msuper\u001b[39m()\u001b[38;5;241m.\u001b[39m\u001b[38;5;21m__init__\u001b[39m(command_executor\u001b[38;5;241m=\u001b[39mexecutor, options\u001b[38;5;241m=\u001b[39moptions)\n\u001b[0;32m     72\u001b[0m \u001b[38;5;28;01mexcept\u001b[39;00m \u001b[38;5;167;01mException\u001b[39;00m:\n\u001b[0;32m     73\u001b[0m     \u001b[38;5;28mself\u001b[39m\u001b[38;5;241m.\u001b[39mquit()\n",
      "File \u001b[1;32m~\\anaconda3\\Lib\\site-packages\\selenium\\webdriver\\remote\\webdriver.py:241\u001b[0m, in \u001b[0;36mWebDriver.__init__\u001b[1;34m(self, command_executor, keep_alive, file_detector, options, locator_converter, web_element_cls, client_config)\u001b[0m\n\u001b[0;32m    239\u001b[0m \u001b[38;5;28mself\u001b[39m\u001b[38;5;241m.\u001b[39m_authenticator_id \u001b[38;5;241m=\u001b[39m \u001b[38;5;28;01mNone\u001b[39;00m\n\u001b[0;32m    240\u001b[0m \u001b[38;5;28mself\u001b[39m\u001b[38;5;241m.\u001b[39mstart_client()\n\u001b[1;32m--> 241\u001b[0m \u001b[38;5;28mself\u001b[39m\u001b[38;5;241m.\u001b[39mstart_session(capabilities)\n\u001b[0;32m    242\u001b[0m \u001b[38;5;28mself\u001b[39m\u001b[38;5;241m.\u001b[39m_fedcm \u001b[38;5;241m=\u001b[39m FedCM(\u001b[38;5;28mself\u001b[39m)\n\u001b[0;32m    244\u001b[0m \u001b[38;5;28mself\u001b[39m\u001b[38;5;241m.\u001b[39m_websocket_connection \u001b[38;5;241m=\u001b[39m \u001b[38;5;28;01mNone\u001b[39;00m\n",
      "File \u001b[1;32m~\\anaconda3\\Lib\\site-packages\\selenium\\webdriver\\remote\\webdriver.py:329\u001b[0m, in \u001b[0;36mWebDriver.start_session\u001b[1;34m(self, capabilities)\u001b[0m\n\u001b[0;32m    322\u001b[0m \u001b[38;5;250m\u001b[39m\u001b[38;5;124;03m\"\"\"Creates a new session with the desired capabilities.\u001b[39;00m\n\u001b[0;32m    323\u001b[0m \n\u001b[0;32m    324\u001b[0m \u001b[38;5;124;03m:Args:\u001b[39;00m\n\u001b[0;32m    325\u001b[0m \u001b[38;5;124;03m - capabilities - a capabilities dict to start the session with.\u001b[39;00m\n\u001b[0;32m    326\u001b[0m \u001b[38;5;124;03m\"\"\"\u001b[39;00m\n\u001b[0;32m    328\u001b[0m caps \u001b[38;5;241m=\u001b[39m _create_caps(capabilities)\n\u001b[1;32m--> 329\u001b[0m response \u001b[38;5;241m=\u001b[39m \u001b[38;5;28mself\u001b[39m\u001b[38;5;241m.\u001b[39mexecute(Command\u001b[38;5;241m.\u001b[39mNEW_SESSION, caps)[\u001b[38;5;124m\"\u001b[39m\u001b[38;5;124mvalue\u001b[39m\u001b[38;5;124m\"\u001b[39m]\n\u001b[0;32m    330\u001b[0m \u001b[38;5;28mself\u001b[39m\u001b[38;5;241m.\u001b[39msession_id \u001b[38;5;241m=\u001b[39m response\u001b[38;5;241m.\u001b[39mget(\u001b[38;5;124m\"\u001b[39m\u001b[38;5;124msessionId\u001b[39m\u001b[38;5;124m\"\u001b[39m)\n\u001b[0;32m    331\u001b[0m \u001b[38;5;28mself\u001b[39m\u001b[38;5;241m.\u001b[39mcaps \u001b[38;5;241m=\u001b[39m response\u001b[38;5;241m.\u001b[39mget(\u001b[38;5;124m\"\u001b[39m\u001b[38;5;124mcapabilities\u001b[39m\u001b[38;5;124m\"\u001b[39m)\n",
      "File \u001b[1;32m~\\anaconda3\\Lib\\site-packages\\selenium\\webdriver\\remote\\webdriver.py:384\u001b[0m, in \u001b[0;36mWebDriver.execute\u001b[1;34m(self, driver_command, params)\u001b[0m\n\u001b[0;32m    382\u001b[0m response \u001b[38;5;241m=\u001b[39m \u001b[38;5;28mself\u001b[39m\u001b[38;5;241m.\u001b[39mcommand_executor\u001b[38;5;241m.\u001b[39mexecute(driver_command, params)\n\u001b[0;32m    383\u001b[0m \u001b[38;5;28;01mif\u001b[39;00m response:\n\u001b[1;32m--> 384\u001b[0m     \u001b[38;5;28mself\u001b[39m\u001b[38;5;241m.\u001b[39merror_handler\u001b[38;5;241m.\u001b[39mcheck_response(response)\n\u001b[0;32m    385\u001b[0m     response[\u001b[38;5;124m\"\u001b[39m\u001b[38;5;124mvalue\u001b[39m\u001b[38;5;124m\"\u001b[39m] \u001b[38;5;241m=\u001b[39m \u001b[38;5;28mself\u001b[39m\u001b[38;5;241m.\u001b[39m_unwrap_value(response\u001b[38;5;241m.\u001b[39mget(\u001b[38;5;124m\"\u001b[39m\u001b[38;5;124mvalue\u001b[39m\u001b[38;5;124m\"\u001b[39m, \u001b[38;5;28;01mNone\u001b[39;00m))\n\u001b[0;32m    386\u001b[0m     \u001b[38;5;28;01mreturn\u001b[39;00m response\n",
      "File \u001b[1;32m~\\anaconda3\\Lib\\site-packages\\selenium\\webdriver\\remote\\errorhandler.py:232\u001b[0m, in \u001b[0;36mErrorHandler.check_response\u001b[1;34m(self, response)\u001b[0m\n\u001b[0;32m    230\u001b[0m         alert_text \u001b[38;5;241m=\u001b[39m value[\u001b[38;5;124m\"\u001b[39m\u001b[38;5;124malert\u001b[39m\u001b[38;5;124m\"\u001b[39m]\u001b[38;5;241m.\u001b[39mget(\u001b[38;5;124m\"\u001b[39m\u001b[38;5;124mtext\u001b[39m\u001b[38;5;124m\"\u001b[39m)\n\u001b[0;32m    231\u001b[0m     \u001b[38;5;28;01mraise\u001b[39;00m exception_class(message, screen, stacktrace, alert_text)  \u001b[38;5;66;03m# type: ignore[call-arg]  # mypy is not smart enough here\u001b[39;00m\n\u001b[1;32m--> 232\u001b[0m \u001b[38;5;28;01mraise\u001b[39;00m exception_class(message, screen, stacktrace)\n",
      "\u001b[1;31mSessionNotCreatedException\u001b[0m: Message: Expected browser binary location, but unable to find binary in default location, no 'moz:firefoxOptions.binary' capability provided, and no binary flag set on the command line\n"
     ]
    }
   ],
   "source": [
    "# If browser is Firefox run:\n",
    "driver = webdriver.Firefox(service=ffox_service)\n",
    "\n",
    "## If browser is Chromium run:\n",
    "# driver = webdriver.Chrome(service=chrome_service)\n",
    "\n",
    "## If browser is Microsoft Edge run:\n",
    "# driver = webdriver.Edge(service=edge_service)\n",
    "try:\n",
    "    driver.get(\"https://www.thelancet.com/action/showFullTableHTML?isHtml=true&tableId=tbl2&pii=S0140-6736%2818%2930994-2\")\n",
    "    HAQ_1990_to_2016_table = driver.execute_script(\"return document.querySelector('.scrollable.bordered').outerHTML;\")\n",
    "\n",
    "    # Wait for the table to load and the element with the classes 'scrollable bordered' to appear\n",
    "    WebDriverWait(driver, 60).until(EC.presence_of_element_located((By.CSS_SELECTOR, '.scrollable.bordered'))) # Allow 60 seconds to timeout\n",
    "    HAQ_1990_to_2016_table_soup = BeautifulSoup(HAQ_1990_to_2016_table, 'html.parser') # Use BeautifulSoup again to parse the table elements\n",
    "    \n",
    "    print(HAQ_1990_to_2016_table_soup.prettify()[:300]) #print first 300 characters for cleaner output\n",
    "finally:\n",
    "    driver.quit()"
   ]
  },
  {
   "cell_type": "markdown",
   "id": "70e1dedd-76e8-4d3d-9d41-618adf513def",
   "metadata": {},
   "source": [
    "#### <b>4.1.5 Importing HAQ Index data for 2019<b>"
   ]
  },
  {
   "cell_type": "markdown",
   "id": "ea36b5a9-2d2c-4d28-96a8-686e4290d5cb",
   "metadata": {},
   "source": [
    "Open the HTML page and wait for Javascript elements to load then extract necessary information for HAQ Index for 2019.\\\n",
    "\\\n",
    "Use exception handling of \"try\" and \"finally\" to avoid any complications while the driver is running."
   ]
  },
  {
   "cell_type": "code",
   "execution_count": null,
   "id": "38594d98-9737-4a89-af93-c6bb163cd220",
   "metadata": {},
   "outputs": [],
   "source": [
    "# If browser is Firefox run:\n",
    "driver = webdriver.Firefox(service=ffox_service)\n",
    "\n",
    "## If browser is Chromium run:\n",
    "# driver = webdriver.Chrome(service=chrome_service)\n",
    "\n",
    "## If browser is Microsoft Edge run:\n",
    "# driver = webdriver.Edge(service=edge_service)\n",
    "try:\n",
    "    driver.get(\"https://www.thelancet.com/action/showFullTableHTML?isHtml=true&tableId=tbl1&pii=S2214-109X%2822%2900429-6\")\n",
    "    HAQ_2019_table = driver.execute_script(\"return document.querySelector('.scrollable.bordered').outerHTML;\")\n",
    "\n",
    "    # Wait for the table to load and the element with the classes 'scrollable bordered' to appear\n",
    "    WebDriverWait(driver, 60).until(EC.presence_of_element_located((By.CSS_SELECTOR, '.scrollable.bordered'))) # Allow 60 seconds to timeout\n",
    "    HAQ_2019_table_soup = BeautifulSoup(HAQ_2019_table, 'html.parser') # Use BeautifulSoup again to parse the table elements\n",
    "    \n",
    "    print(HAQ_2019_table_soup.prettify()[:300]) #print first 300 characters for cleaner output\n",
    "finally:\n",
    "    driver.quit()"
   ]
  },
  {
   "cell_type": "markdown",
   "id": "35ca20ef-754c-4d17-b096-7c618e8f4e4b",
   "metadata": {},
   "source": [
    "### 4.2 Assign extracted data to new table and csv"
   ]
  },
  {
   "cell_type": "markdown",
   "id": "ac4cdc83-3019-403a-96df-8836a814cd45",
   "metadata": {},
   "source": [
    "#### <b>4.2.1 Years<b>"
   ]
  },
  {
   "cell_type": "markdown",
   "id": "8be4a3c8-9842-4d3d-a067-45a27f2db0b0",
   "metadata": {},
   "source": [
    "The first step would be locating the row for the 'Year' header and extracting only the years '1990', '2000' and '2016'."
   ]
  },
  {
   "cell_type": "code",
   "execution_count": null,
   "id": "14b002d1-07f1-4697-8711-97c6f022c997",
   "metadata": {},
   "outputs": [],
   "source": [
    "rows_1990_to_2016 = HAQ_1990_to_2016_table_soup.find_all('tr') # Assign all rows with tag 'tr' to a variable\n",
    "year_row = None\n",
    "for row in rows_1990_to_2016:\n",
    "    # Check if '1990' is in any of the rows in the HTML page for \n",
    "    if '1990' in row.text:\n",
    "        # Print row where '1990' is located and assign to variable 'year_row'\n",
    "        print(row)\n",
    "        year_row = row\n",
    "        break # Stop iteration once the row is found"
   ]
  },
  {
   "cell_type": "markdown",
   "id": "1df5397e-5043-4fdc-9cec-e444cff087ce",
   "metadata": {},
   "source": [
    "From the row, we can see that the years '1990', '2000' and '2016' are in the first three non-empty elements of tag 'th'. We iterate through all elements of tag 'th' and assign only '1990', '2000' and '2016' to a list."
   ]
  },
  {
   "cell_type": "code",
   "execution_count": null,
   "id": "47caeedb-c0b8-4b2c-848a-3050109f7f69",
   "metadata": {},
   "outputs": [],
   "source": [
    "# Assign each individual cell to list 'year_cells'\n",
    "year_cells = year_row.find_all('th')\n",
    "four_year_cells = [] # Initialise empty list to store 4 years\n",
    "# Extract the index from the first 3 non-empty cells\n",
    "for cell in year_cells[0:6]: # Iterate through first 6 cells to locate first 3 non-empty cells\n",
    "    if cell.text != '': # Check that the cell is not empty\n",
    "        four_year_cells.append(int(cell.text)) # Add cell to the list\n",
    "print(\"Four year cells:\", four_year_cells) # Print to check that the append has successfully added the years"
   ]
  },
  {
   "cell_type": "markdown",
   "id": "6e4d26fb-0c84-4d3b-b3fb-bf4887c7cfd6",
   "metadata": {},
   "source": [
    "The fourth year to be added is '2019'. However, in both HTML pages, the string '2019' does not appear in its own cell. As such, we have to manually add the year '2019' to the list of 'Four year cells' using '.append'"
   ]
  },
  {
   "cell_type": "code",
   "execution_count": null,
   "id": "32674cd9-3864-44ea-8ec5-2c71a6bfb1bd",
   "metadata": {},
   "outputs": [],
   "source": [
    "four_year_cells.append(2019)\n",
    "print(\"Four year cells:\", four_year_cells) # Print to check that the append has successfully been exceuted"
   ]
  },
  {
   "cell_type": "markdown",
   "id": "c76c81f7-6422-48ed-b4aa-e4284f6442d2",
   "metadata": {},
   "source": [
    "#### <b>4.2.2 HAQ Index<b>"
   ]
  },
  {
   "cell_type": "markdown",
   "id": "ecfb5fc7-6a37-4231-82af-85272b0918e8",
   "metadata": {},
   "source": [
    "The next step would be locating the row containing 'HAQ Index' values for Singapore only. We start with the first HTML page."
   ]
  },
  {
   "cell_type": "code",
   "execution_count": null,
   "id": "cf40e153-0833-419e-b2b5-7571adb7d394",
   "metadata": {},
   "outputs": [],
   "source": [
    "sg_row_1990_to_2016 = None\n",
    "for row in rows_1990_to_2016:\n",
    "    # Check if 'Singapore' is in any of the table cells (td)\n",
    "    if 'Singapore' in row.text:\n",
    "        # Print row where 'Singapore' is located and assing to variable 'sg_row'\n",
    "        print(row)\n",
    "        sg_row_1990_to_2016 = row\n",
    "        break # Stop iteration once the row is found"
   ]
  },
  {
   "cell_type": "markdown",
   "id": "abaed3e6-4c71-4b55-9560-713e03cf2cb4",
   "metadata": {},
   "source": [
    "From the row, we can see that the HAQ Index values from the years '1990', '2000' and '2016' are in the first three elements of tag 'th' after the cell containing 'Singapore'. We iterate through all elements of tag 'th' and assign only the HAQ Index values for the years '1990', '2000' and '2016' to a list."
   ]
  },
  {
   "cell_type": "code",
   "execution_count": null,
   "id": "c5ed5415-277c-4c89-aacb-dd9c0e7cf3cb",
   "metadata": {},
   "outputs": [],
   "source": [
    "sg_cells_1990_to_2016 = sg_row_1990_to_2016.find_all('td') # Assign all cells to a list\n",
    "sg_haq_cells = []\n",
    "# Extract the text from the first 4 cells\n",
    "for cell in sg_cells_1990_to_2016[0:6]: # Iterate through first 6 cells to locate first 3 cells for HAQ Index\n",
    "    if cell.text != '' and cell.text != 'Singapore': # Check if cell is not empty and does not contain the string 'Singapore'\n",
    "        # Replace dot in string with decimal separator '.' and convert to float before appending\n",
    "        sg_haq_cells.append(float(cell.text[0:4].replace('·','.')))\n",
    "print(\"Singapore HAQ cells:\", sg_haq_cells)"
   ]
  },
  {
   "cell_type": "markdown",
   "id": "d79567b8-fd39-47b4-a226-ace7b6c21db3",
   "metadata": {},
   "source": [
    "Here we execute 'cell.text[0:4]' to obtain the first 4 characters in the selected cell. This removes the bracketed content in the cell, which is the range for the HAQ Index value.\\\n",
    "\\\n",
    "Next, we execute '.replace('·','.')' to obtain a string that can be converted into a float. From the print of 'sg_row_1990_to_2016', we see that the decimal point is not represented by a numerical dot. This prevents the conversion of the string into a float. To counter this, we convert the decimal point into the actual numerical dot. \\\n",
    "\\\n",
    "Finally we use 'float()' to convert the string into a float. The previous two parts ensure that the string obtained from the cell is able to be converted into a float value. The execution of 'float()' should not face any issues."
   ]
  },
  {
   "cell_type": "markdown",
   "id": "45e177a1-ccdc-45a1-8474-51e67cdd50c2",
   "metadata": {},
   "source": [
    "We move on to the second HTML page. We intend to extract only 1 HAQ Index value from this page."
   ]
  },
  {
   "cell_type": "code",
   "execution_count": null,
   "id": "03648716-04fb-4164-a82f-3f817e1f96c4",
   "metadata": {},
   "outputs": [],
   "source": [
    "rows_2019 = HAQ_2019_table_soup.find_all('tr') # Assign all rows with tag 'tr' to a variable\n",
    "sg_row_2019 = None\n",
    "for row in rows_2019:\n",
    "    # Check if 'Singapore' is in any of the table cells (td)\n",
    "    if 'Singapore' in row.text:\n",
    "        # Print row where 'Singapore' is located and assing to variable 'sg_row'\n",
    "        print(row)\n",
    "        sg_row_2019 = row\n",
    "        break # Stop iteration once the row is found"
   ]
  },
  {
   "cell_type": "markdown",
   "id": "f73deafd-f1a2-4265-a0f4-45f35d561099",
   "metadata": {},
   "source": [
    "From the row, we can see that the HAQ Index value for the year '2019' is in the first element of tag 'th' after the cell containing 'Singapore'. We iterate through all elements of tag 'th' and assign only the HAQ Index value for the year '2019' to the 'sg_haq_cells' list."
   ]
  },
  {
   "cell_type": "code",
   "execution_count": null,
   "id": "54af33c6-f283-4dae-b4ce-ad89555fae11",
   "metadata": {},
   "outputs": [],
   "source": [
    "sg_cells_2019 = sg_row_2019.find_all('td') # Assign all cells to a list\n",
    "# Extract the text from the first 4 cells\n",
    "for cell in sg_cells_2019[0:3]: # Iterate through first 3 cells to locate the cell for HAQ Index\n",
    "    if cell.text != '' and cell.text != 'Singapore': # Check if cell is not empty and does not contain the string 'Singapore'\n",
    "        # Replace dot in string with decimal separator '.' and convert to float before appending\n",
    "        sg_haq_cells.append(float(cell.text[0:4].replace('·','.')))\n",
    "print(\"Singapore HAQ cells:\", sg_haq_cells)"
   ]
  },
  {
   "cell_type": "markdown",
   "id": "902ae247-ca8c-45d1-83d7-0ab64c1e88f9",
   "metadata": {},
   "source": [
    "The same code is executed before adding the HAQ Index value for '2019' into the list of all HAQ Index values for Singapore."
   ]
  },
  {
   "cell_type": "markdown",
   "id": "ad9090c1-9e4f-4496-80f6-666a269619a9",
   "metadata": {},
   "source": [
    "Before uploading the data we have collected to a new csv file, we pair the data to its corresponding year using the 'zip()' function."
   ]
  },
  {
   "cell_type": "code",
   "execution_count": null,
   "id": "9d0d046d-e485-4ee4-b62b-8cdf0a923855",
   "metadata": {},
   "outputs": [],
   "source": [
    "zipped_year_to_haq = zip(four_year_cells,sg_haq_cells)"
   ]
  },
  {
   "cell_type": "markdown",
   "id": "d3130c72-5629-4347-9c1d-c7e3edc97695",
   "metadata": {},
   "source": [
    "#### <b>4.2.3 Writing to new CSV file<b>"
   ]
  },
  {
   "cell_type": "markdown",
   "id": "39c082a2-bdc2-4c4f-94f8-72f67a05b391",
   "metadata": {},
   "source": [
    "In the next section, we require the 'csv' module for python which allows file reading and writing.\\\n",
    "We can import this module by using the code \"import csv\"."
   ]
  },
  {
   "cell_type": "code",
   "execution_count": null,
   "id": "217bd9a7-44e1-4116-83b6-f2ebb033eda8",
   "metadata": {},
   "outputs": [],
   "source": [
    "import csv"
   ]
  },
  {
   "cell_type": "markdown",
   "id": "4951d4a8-c666-4ea5-9c4d-5969cb572519",
   "metadata": {},
   "source": [
    "We create a new csv file and name it 'HAQSingapore1990to2019.csv' and write the zipped data to the csv file. The csv module provides the functions 'writer()' and 'writerow()' in order to place each zipped pair in correct rows. We ensure that the data has column headers for future plotting purposes."
   ]
  },
  {
   "cell_type": "code",
   "execution_count": null,
   "id": "249fac76-cf55-443b-b9e5-68eeac23bf9f",
   "metadata": {},
   "outputs": [],
   "source": [
    "with open('HAQSingapore1990to2019.csv', 'w', newline='') as csvfile:\n",
    "    writer = csv.writer(csvfile)\n",
    "    writer.writerow(['Year', 'HAQ Index 95% UI']) # Assign column headers as 'Year' and 'HAQ Index 95% UI'\n",
    "    for four_year_cells, sg_haq_cells in zipped_year_to_haq: # Iterate through the zipped pairs\n",
    "        # Write each pair in a row with the first column being 'Year' and the second column being 'HAQ Index'\n",
    "        writer.writerow([four_year_cells, sg_haq_cells])"
   ]
  },
  {
   "cell_type": "markdown",
   "id": "3c9de397-2cb8-41c5-b4d0-b6ef5b12e832",
   "metadata": {},
   "source": [
    "The pandas module is used here for dataframe management, reading the newly created csv file 'HAQSingapore1990to2019.csv' and assigning it to a dataframe."
   ]
  },
  {
   "cell_type": "code",
   "execution_count": null,
   "id": "160790db-93e3-4d5d-86ac-578aa2c2d4c1",
   "metadata": {},
   "outputs": [],
   "source": [
    "haq_df = pd.read_csv('HAQSingapore1990to2019.csv',header=0)\n",
    "haq_df # Print the dataframe to check it is correct"
   ]
  },
  {
   "cell_type": "markdown",
   "id": "9157d81e-252c-45b8-9eec-30a3bef0a284",
   "metadata": {},
   "source": [
    "By using 'header=0', we assign the first row of 'HAQSingapore1990to2019.csv' as the headers which are 'Year' and 'HAQ Index 95% UI'.\\\n",
    "We then use matplotlib and seaborn libraries again to plot a line plot for the HAQ Index values for Singapore."
   ]
  },
  {
   "cell_type": "code",
   "execution_count": null,
   "id": "08f720e5-0949-4096-8889-07c4d85730cc",
   "metadata": {},
   "outputs": [],
   "source": [
    "fig, haq_plot = plt.subplots()\n",
    "haq_plot.plot(haq_df['Year'],haq_df['HAQ Index 95% UI'])\n",
    "\n",
    "haq_plot.set_xlabel(\"Year\")\n",
    "haq_plot.set_ylabel(\"HAQ Index 95% UI\")\n",
    "haq_plot.set_title(\"Fig. 4 HAQ in Singapore\")"
   ]
  },
  {
   "cell_type": "markdown",
   "id": "4fb52706-afe9-4fc9-b510-0fdd852b58fd",
   "metadata": {},
   "source": [
    "### 4.3 Analysis of HAQ Index values for Singapore"
   ]
  },
  {
   "cell_type": "markdown",
   "id": "e23a5478-f040-4598-b6c8-c9731188a3dd",
   "metadata": {},
   "source": [
    "Analysis of the plotted line plot reveals that the HAQ Index for Singapore experiences a steep drop after 2016. This suggests that the quality of accessible healthcare in Singapore experiences a rapid decline despite growing from 1990 to 2015.\n",
    "\n",
    "We will study the correlation between the allocation of the healthcare workforce and the change in the quality of accessible healthcare quality in Singapore."
   ]
  },
  {
   "cell_type": "markdown",
   "id": "3699aae8-6898-4e26-8537-8eed3658b7d8",
   "metadata": {},
   "source": [
    "## 5 Linking Workforce Trends to Healthcare Quality"
   ]
  },
  {
   "cell_type": "markdown",
   "id": "9942f5e2-aec1-430d-8ed0-f94e31716b5e",
   "metadata": {},
   "source": [
    "This section will combine the analysis of all data to determine the link between the healthcare workforce with the healthcare quality in Singapore. Link the findings in section 3 and 4 together, and analyse how they are connected and correlated to one another. Following that, more research is done to find out how the trends appear and how they may impact the future of the healthcare service and the quality in can provide."
   ]
  },
  {
   "cell_type": "markdown",
   "id": "af8eae11-7a36-41c5-85e1-4a49302d9506",
   "metadata": {},
   "source": [
    "### 5.1 Correlations Between Staffing and HAQ Scores"
   ]
  },
  {
   "cell_type": "markdown",
   "id": "30674817-0bbc-46c7-b544-50c7653017cf",
   "metadata": {},
   "source": [
    "Observing on a broader level, the number of healthcare workers in Singapore experiences an overall increase between 2016 and 2019. However, from 2016 to 2019, the HAQ Index score experiences a rapid decline. A deeper level of observation and analysis is required to understand the causes in terms of the healthcare workforce. "
   ]
  },
  {
   "cell_type": "markdown",
   "id": "fd2967e2-e333-42a8-b463-eb220087b068",
   "metadata": {},
   "source": [
    "From studying the healthcare workforce for different sectors, between 2016 and 2019 we see that the number of Advanced Practice Nurses and, Nurses and Midwives experience a greater increase in the public sector compared to the private sector. It is expected that healthcare quality goes up when the healthcare workforce count goes up. However, this goes against the finding that the HAQ Index scored lower in 2019 than in 2016."
   ]
  },
  {
   "cell_type": "markdown",
   "id": "f2bfb268-d5d9-47fe-8743-0a615845e50b",
   "metadata": {},
   "source": [
    "In section 3.2.3, it was found that there was a greater focus on providing educational opportunities to pursue a career in nursing as well as benefits to those in the nursing field. It could be argued that the increase in opportunities to pursue a career in nursing lead to the quality of nurses dropping. Besides that, providing more benefits to those in the nursing field could shift the focus of nurses away from providing quality healthcare towards superficial benefits. Both these factors could lead to the decline in the quality of nursing and eventually the quality of healthcare in Singapore."
   ]
  },
  {
   "cell_type": "markdown",
   "id": "154e65e7-beab-465b-8c31-6bab5c44290d",
   "metadata": {},
   "source": [
    "As for therapists, between 2016 and 2019, the number of Speech Therapists, Occupational Therapists and Physiotherapists experience a greater increase in the private sector compared to the public sector. It is expected that healthcare accessibility and quality goes down when the healthcare workforce count shifts towards the private sector. This aligns with the finding that the HAQ Index scored lower in 2019 than in 2016."
   ]
  },
  {
   "cell_type": "markdown",
   "id": "4b81ba95-37aa-453d-9c9b-dbe0c6e1459f",
   "metadata": {},
   "source": [
    "Therapists play an imperative role for Intermediate and Long Term Care (ILTC) [8]. The Singapore government provides an avenue to access these healthcare services through agencies like the Agency for Integrated Care (AIC). However this avenue itself comes with challenges like high costs and long waiting times. It is estimated that the costs ranges from \\\\$52 to \\\\$102 per session without transport fees [9]. Along with that, waiting times for the application process may take up to four weeks [10]. Both the high costs and long waiting times can be attributed to the less than proportionate increase of the number of therapists in the public sector compared to the private sector. This limits the access of quality healthcare for patients and in turn affects the quality of healthcare in Singapore."
   ]
  },
  {
   "cell_type": "markdown",
   "id": "cc60ef71-7a6d-44cd-8597-55c4c445391a",
   "metadata": {},
   "source": [
    "### 5.2 Singapore Population"
   ]
  },
  {
   "cell_type": "markdown",
   "id": "d08a63e5-1932-447d-8cd3-502a91ec502e",
   "metadata": {},
   "source": [
    "Focus on the Singapore population count and distribution is important in understanding the effects of the healthcare workforce on the quality of healthcare in Singapore. From 2016 to 2019, Singapore experienced a population increase of almost 1 million [11]. Beyond the population count, the percentage of elderly in the population must be considered as well. The percentage of residents aged 65 and above in 2016 was 12.4%. This percentage would rise to 14.4% in 2014 [12]. While a 2% increase may not seem like much, the percentage increase of elderly along with the absolute population count increase indicates that the percentage increase is far greater than it seems."
   ]
  },
  {
   "cell_type": "markdown",
   "id": "06713a84-1253-4058-b662-78da3c5c26a4",
   "metadata": {},
   "source": [
    "## 6 Implications and Future Research"
   ]
  },
  {
   "cell_type": "markdown",
   "id": "87f83942-29a1-4d1c-b422-7c59cd60980a",
   "metadata": {},
   "source": [
    "### 6.1 Implications"
   ]
  },
  {
   "cell_type": "markdown",
   "id": "18447ce9-5557-40e7-aa2d-414b3e678ad8",
   "metadata": {},
   "source": [
    "The decline in Singapore's HAQ Index scores from 2016 to 2019, despite an increase in the healthcare workforce, reveals complex challenges in balancing workforce growth with quality outcomes. "
   ]
  },
  {
   "cell_type": "markdown",
   "id": "0f2bf18d-1909-4ce9-bead-a24e5d8fdfe2",
   "metadata": {},
   "source": [
    "#### 6.1.1 Workforce Distribution"
   ]
  },
  {
   "cell_type": "markdown",
   "id": "b6117541-a6cf-4e20-b0b6-c2f08969f64d",
   "metadata": {},
   "source": [
    "There exists an imbalanced focus on different healthcare professions across the public and private healthcare sectors. This suggests that, on a systemic level, policies tend to focus on the solution instead of the root cause. While nursing in the public expanded, the quality may have been impacted as the rapid increase in the avenue for education and superficial incentives could have diluted skill levels in nurses. On the other hand, limited focus on therapists led to the slow growth in the public sector and thus, affecting the ability of public healthcare agencies to operate efficiently and quickly. "
   ]
  },
  {
   "cell_type": "markdown",
   "id": "b60ea290-d9be-42fa-b199-4ee703d803ed",
   "metadata": {},
   "source": [
    "#### 6.1.2 Aging Population"
   ]
  },
  {
   "cell_type": "markdown",
   "id": "10425d88-21ba-4ee8-9b41-ab7d8d101361",
   "metadata": {},
   "source": [
    "There is inadequate scaling of the public healthcare sector, especially for the aging population and particularly for those in need of ILTC. The ever increasing percentage of the elderly in Singapore calls for the need to shift the focus towards this demographic and ensure accessible healthcare of quality. "
   ]
  },
  {
   "cell_type": "markdown",
   "id": "2c69fe31-8776-4a61-a41a-450bfcdda721",
   "metadata": {},
   "source": [
    "### 6.2 Future Research"
   ]
  },
  {
   "cell_type": "markdown",
   "id": "932e20b6-050a-4015-982c-cee4e2d5efd4",
   "metadata": {},
   "source": [
    "Further research topics that can be explored include:\n",
    "1. Investigating the relationship between rapid workforce growth and the quality outcomes in nursing\n",
    "2. Analysing the demands of ILTC on the healthcare workforce"
   ]
  },
  {
   "cell_type": "markdown",
   "id": "2588843f-f544-4e9b-991f-a4f08418c2ba",
   "metadata": {},
   "source": [
    "## 7 Conclusions and Reflections"
   ]
  },
  {
   "cell_type": "markdown",
   "id": "b3e632e5-8522-4b25-905c-c98d8c0ad094",
   "metadata": {},
   "source": [
    "The research highlights the importance of aligning workforce growth with healthcare quality. Increasing the healthcare workforce numbers alone is not sufficient to meet rising demands as this study highlights that absolute growth does not guarantee improved quality. Vulnerabilities in the healthcare system appear due to the disproportionate healthcare workforce distribution in the private and public sectors as well as potential skill dilution during the sudden growth of the healthcare workforce, particularly for nursing.\\\n",
    "\\\n",
    "Beyond that, the challenges associated with accessibility to healthcare services, like high costs and long waiting times, reinforce the importance of balancing resources for both the healthcare workforce and quality. It is important that policies and healthcare providers remain focused on providing sufficient quality healthcare services.\\\n",
    "\\\n",
    "These reflections emphasise the significance of addressing the changing population of Singapore with solutions that provide immediate effects and long-term focus."
   ]
  },
  {
   "cell_type": "markdown",
   "id": "928a8b3e-c0f1-4636-8015-91e747b5c450",
   "metadata": {},
   "source": [
    "## References"
   ]
  },
  {
   "cell_type": "markdown",
   "id": "46a07ebe-2fee-4c33-a16a-3e073bce6b27",
   "metadata": {},
   "source": [
    "[1] The Legatum Prosperity Index. Singapore. 2023. (Last accessed on 15 December 2024). Available from: https://www.prosperity.com/globe/singapore \\\n",
    "\\\n",
    "[2] The Straits Times. S'pore's population ageing rapidly: Nearly 1 in 5 citizens is 65 years and older. 2022. (Last accessed on 15 December 2024). Available from: https://www.straitstimes.com/singapore/singapores-population-ageing-rapidly-184-of-citizens-are-65-years-and-older \\\n",
    "\\\n",
    "[5] Ministry of Health Singapore. New 2-Year Bachelor of Science (Nursing) Programme to Attract More Mid-Career Singaporeans to Join Nursing. 2018. (Last accessed on 15 December 2024). Available from: https://www.moh.gov.sg/newsroom/new-2-year-bachelor-of-science-(nursing)-programme-to-attract-more-mid-career-singaporeans-to-join-nursing \\\n",
    "\\\n",
    "[6] National University of Singapore. New graduate diploma for community health nursingc. 2018. (Last accessed on 15 December 2024). https://news.nus.edu.sg/new-graduate-diploma-for-community-health-nursing/ \\\n",
    "\\\n",
    "[7] Ministry of Health Singapore, Cheng Li Hui, MP of Tampines GRC. Retention and career opportunities of nurses. 2016. (Last accessed on 15 December 2024). Available from: https://www.moh.gov.sg/newsroom/retention-and-career-opportunities-of-nurses \\\n",
    "\\\n",
    "[8] Ministry of Health Singapore. Intermediate and Long Term Care (ILTC) Services. (Last accessed on 15 Decemeber 2024). Available from: https://www.moh.gov.sg/seeking-healthcare/find-a-medical-facility/mental-health-services/intermediate-and-long-term-care-services \\\n",
    "\\\n",
    "[9] Agency for Integrated Care. Community Rehabilitation Centre. (Last accessed on 15 December 2024). Available from: https://www.aic.sg/care-services/community-rehabilitation-centre/ \\\n",
    "\\\n",
    "[10] Agency for Integrated Care. Interim Disability Assistance Programme for the Elderly (IDAPE). (Last accessed on 15 December 2024). Available from: https://www.aic.sg/financial-assistance/interim-disability-assistance-programme-for-the-elderly-idape/"
   ]
  },
  {
   "cell_type": "markdown",
   "id": "dada87e0-1435-49d7-b69c-c13f1f646d2f",
   "metadata": {},
   "source": [
    "## Data and codes"
   ]
  },
  {
   "cell_type": "markdown",
   "id": "5ae761ac-e379-4ead-a2e3-703f38b3af72",
   "metadata": {},
   "source": [
    "[3] data.gov.sg. Open data license. (Last accessed on 15 December 2024). Available from: https://data.gov.sg/open-data-licence \\\n",
    "\\\n",
    "[4] Institute for Health Metrics and Evaluation. Data use agreement. (Last accessed on 15 December 2024). Available from: https://www.healthdata.org/Data-tools-practices/data-practices/ihme-free-charge-non-commercial-user-agreement \\\n",
    "\\\n",
    "[11] Strategy Group, Prime Minister’s Office, Singapore Department of Statistics, Ministry of Home Affairs, Immigration & Checkpoints Authority, Ministry of Manpower. Population in Brief 2019. 2019. (Last accessed on 15 December 2024). Available from: https://www.strategygroup.gov.sg/files/media-centre/publications/population-in-brief-2019.pdf \\\n",
    "\\\n",
    "[12] statista. Residents aged 65 years and older as share of the resident population in Singapore from 1970 to 2023. 2024. (Last accessed from 15 December 2024). Available from: https://www.statista.com/statistics/1112943/singapore-elderly-share-of-resident-population/"
   ]
  }
 ],
 "metadata": {
  "kernelspec": {
   "display_name": "Python [conda env:base] *",
   "language": "python",
   "name": "conda-base-py"
  },
  "language_info": {
   "codemirror_mode": {
    "name": "ipython",
    "version": 3
   },
   "file_extension": ".py",
   "mimetype": "text/x-python",
   "name": "python",
   "nbconvert_exporter": "python",
   "pygments_lexer": "ipython3",
   "version": "3.12.7"
  }
 },
 "nbformat": 4,
 "nbformat_minor": 5
}
